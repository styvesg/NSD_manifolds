{
 "cells": [
  {
   "cell_type": "code",
   "execution_count": 1,
   "metadata": {},
   "outputs": [
    {
     "data": {
      "text/html": [
       "<style>.container { width:95% !important; }</style>"
      ],
      "text/plain": [
       "<IPython.core.display.HTML object>"
      ]
     },
     "metadata": {},
     "output_type": "display_data"
    }
   ],
   "source": [
    "from IPython.core.display import display, HTML\n",
    "display(HTML(\"<style>.container { width:95% !important; }</style>\"))"
   ]
  },
  {
   "cell_type": "code",
   "execution_count": 4,
   "metadata": {},
   "outputs": [],
   "source": [
    "import sys\n",
    "sys.path.append(\"/export/raid1/home/styvesg/code/\")\n",
    "sys.path.append(\"/export/raid1/home/styvesg/code/nsd_gnet8x/\")\n",
    "sys.path.append(\"/export/raid1/home/styvesg/code/nsd_manifold/\")\n",
    "\n",
    "import nsd_gnet8x.src.numpy_utility as pnu\n",
    "from nsd_gnet8x.src.file_utility import save_stuff, flatten_dict, embed_dict, zip_dict\n",
    "from nsd_gnet8x.src.config import *\n",
    "\n",
    "from nsd_manifold.src.utility import *\n",
    "from nsd_manifold.src.sampler import *\n",
    "\n",
    "%matplotlib inline"
   ]
  },
  {
   "cell_type": "code",
   "execution_count": 5,
   "metadata": {},
   "outputs": [],
   "source": [
    "input_dir = \"../nsd_gnet8x/output/multisubject/gnet8j64t192_mpf_general_Jan-25-2023_1316/\"\n",
    "output_dir = input_dir\n",
    "\n",
    "stim_dir = root_dir+'../../data/nsd/stims/'\n",
    "voxel_dir = root_dir+'../../data/nsd/voxels/'\n",
    "\n",
    "exp_design_file = root_dir+\"../../data/nsd/nsd_expdesign.mat\""
   ]
  },
  {
   "cell_type": "markdown",
   "metadata": {},
   "source": [
    "## ROIs"
   ]
  },
  {
   "cell_type": "code",
   "execution_count": 6,
   "metadata": {},
   "outputs": [],
   "source": [
    "from nsd_gnet8x.src.file_utility import load_mask_from_nii, view_data\n",
    "from nsd_gnet8x.src.roi import roi_map, iterate_roi\n",
    "\n",
    "group_names = ['V1', 'V2', 'V3', 'hV4', 'V3ab', 'LO', 'IPS', 'VO', 'PHC', 'MT', 'MST', 'all', 'other']\n",
    "group = [[1,2],[3,4],[5,6], [7], [16, 17], [14, 15], [18,19,20,21,22,23], [8, 9], [10,11], [13], [12], np.arange(1, 24), [24,25,0]]"
   ]
  },
  {
   "cell_type": "code",
   "execution_count": 27,
   "metadata": {},
   "outputs": [],
   "source": [
    "plot_roi = ['V1', 'V2', 'V3', 'hV4', 'MST', 'V3ab', 'MT', 'PHC', 'VO', 'LO', 'IPS',]\n",
    "roi_cmap = {roi: cm.get_cmap('rainbow', len(plot_roi))(k) for k,roi in enumerate(plot_roi)}"
   ]
  },
  {
   "cell_type": "markdown",
   "metadata": {},
   "source": [
    "# Reload joined GNet model files"
   ]
  },
  {
   "cell_type": "code",
   "execution_count": 13,
   "metadata": {},
   "outputs": [
    {
     "name": "stdout",
     "output_type": "stream",
     "text": [
      "dict_keys(['num_epochs', 'batch_size', 'holdout_frac', 'best_params', 'final_params', 'trn_loss_history', 'hold_loss_history', 'hold_cc_history', 'best_epoch', 'best_joint_cc_score', 'val_cc', 'input_mean', 'brain_nii_shape', 'voxel_index', 'voxel_roi', 'voxel_mask'])\n"
     ]
    }
   ],
   "source": [
    "import torch\n",
    "use_device = \"cuda:0\"\n",
    "\n",
    "joined_checkpoint = torch.load(input_dir + 'model_params_final', map_location=use_device)\n",
    "print (joined_checkpoint.keys())"
   ]
  },
  {
   "cell_type": "code",
   "execution_count": 14,
   "metadata": {},
   "outputs": [],
   "source": [
    "subjects = list(joined_checkpoint['voxel_mask'].keys())\n",
    "voxel_mask = joined_checkpoint['voxel_mask']\n",
    "voxel_roi  = joined_checkpoint['voxel_roi']\n",
    "voxel_index= joined_checkpoint['voxel_index']\n",
    "brain_nii_shape= joined_checkpoint['brain_nii_shape']"
   ]
  },
  {
   "cell_type": "code",
   "execution_count": 15,
   "metadata": {},
   "outputs": [
    {
     "name": "stdout",
     "output_type": "stream",
     "text": [
      "1 :  11838\n",
      "2 :  10325\n",
      "3 :  11356\n",
      "4 :  9470\n",
      "5 :  9565\n",
      "6 :  11827\n",
      "7 :  9162\n",
      "8 :  10178\n"
     ]
    }
   ],
   "source": [
    "for s,v in voxel_mask.items():\n",
    "    print (s, ': ', np.sum(v))"
   ]
  },
  {
   "cell_type": "markdown",
   "metadata": {},
   "source": [
    "# Load a few example image from the imagenet training set"
   ]
  },
  {
   "cell_type": "code",
   "execution_count": 8,
   "metadata": {},
   "outputs": [],
   "source": [
    "imagenet_root = root_dir + \"../../data/imagenet/\""
   ]
  },
  {
   "cell_type": "code",
   "execution_count": 9,
   "metadata": {},
   "outputs": [],
   "source": [
    "from torchvision import datasets, transforms\n",
    "\n",
    "data_transform = transforms.Compose([\n",
    "            transforms.Resize(227), # smallest dimension will be resized to that size\n",
    "            transforms.CenterCrop((227, 227)), # crop the edges of non-square images\n",
    "            transforms.ToTensor(), # this automatically convert from uint8 to float in range [0,1]\n",
    "        ])\n",
    "\n",
    "inet_val = datasets.ImageNet(imagenet_root, 'val', transform=data_transform)\n",
    "#inet_trn = datasets.ImageNet(imagenet_root, 'train', transform=data_transform)"
   ]
  },
  {
   "cell_type": "code",
   "execution_count": 10,
   "metadata": {},
   "outputs": [],
   "source": [
    "label_map = inet_val.classes\n",
    "wnids_map = inet_val.wnids"
   ]
  },
  {
   "cell_type": "code",
   "execution_count": 11,
   "metadata": {},
   "outputs": [
    {
     "name": "stdout",
     "output_type": "stream",
     "text": [
      "1000\n",
      "1000\n",
      "1280449\n"
     ]
    }
   ],
   "source": [
    "print (len(label_map))\n",
    "print (len(wnids_map))"
   ]
  },
  {
   "cell_type": "markdown",
   "metadata": {},
   "source": [
    "---\n",
    "# Calculate hierarchical distance form wordnet IDs."
   ]
  },
  {
   "cell_type": "code",
   "execution_count": 16,
   "metadata": {},
   "outputs": [],
   "source": [
    "import nltk\n",
    "#nltk.download()\n",
    "#download identifier: wordnet, omw-1.4\n",
    "\n",
    "from nltk.corpus import wordnet as wn\n",
    "\n",
    "wnsynset = []\n",
    "for l in wnids_map:\n",
    "    wnsynset += [  wn.synset_from_pos_and_offset(l[0], int(l[1:])), ]\n",
    "    \n",
    "ND_mat = np.zeros(shape=(len(label_map), len(label_map)))\n",
    "for i,wi in enumerate(wnsynset):\n",
    "    for j,wj in enumerate(wnsynset):\n",
    "        ND_mat[i,j] = wi.path_similarity(wj)\n",
    "D_mat = ND_mat**(-1) - 1"
   ]
  },
  {
   "cell_type": "code",
   "execution_count": 17,
   "metadata": {},
   "outputs": [
    {
     "data": {
      "image/png": "[encoded data removed]",
      "text/plain": [
       "<Figure size 864x288 with 4 Axes>"
      ]
     },
     "metadata": {
      "needs_background": "light"
     },
     "output_type": "display_data"
    }
   ],
   "source": [
    "plt.figure(figsize=(12,4))\n",
    "plt.subplot(1,2,1)\n",
    "plt.title('Path similarity')\n",
    "plt.imshow(ND_mat, cmap='jet')\n",
    "plt.colorbar()\n",
    "plt.grid(False)\n",
    "plt.subplot(1,2,2)\n",
    "plt.title('Hierarchical distance')\n",
    "plt.imshow(D_mat, cmap='jet')\n",
    "plt.colorbar()\n",
    "plt.grid(False)"
   ]
  },
  {
   "cell_type": "markdown",
   "metadata": {},
   "source": [
    "# Load imagenet predictions"
   ]
  },
  {
   "cell_type": "code",
   "execution_count": 18,
   "metadata": {},
   "outputs": [
    {
     "name": "stdout",
     "output_type": "stream",
     "text": [
      "dict_keys(['brain_nii_shape', 'label', 'pred', 'voxel_index', 'voxel_mask', 'voxel_roi'])\n"
     ]
    }
   ],
   "source": [
    "data_set = h5py.File(input_dir + 'imagenet_val_pred_all.h5py', 'r')\n",
    "image_pred_dict = embed_dict({s: np.copy(d) for s,d in data_set.items()})\n",
    "data_set.close()\n",
    "print (image_pred_dict.keys())"
   ]
  },
  {
   "cell_type": "code",
   "execution_count": 19,
   "metadata": {},
   "outputs": [
    {
     "name": "stdout",
     "output_type": "stream",
     "text": [
      "50000\n",
      "dict_keys(['1', '2', '3', '4', '5', '6', '7', '8'])\n"
     ]
    }
   ],
   "source": [
    "print (len(image_pred_dict['label']))\n",
    "print (image_pred_dict['pred'].keys())"
   ]
  },
  {
   "cell_type": "code",
   "execution_count": 20,
   "metadata": {},
   "outputs": [
    {
     "name": "stdout",
     "output_type": "stream",
     "text": [
      "(50000, 11838)\n"
     ]
    }
   ],
   "source": [
    "subj = 1\n",
    "print (image_pred_dict['pred']['%s'%subj].shape)"
   ]
  },
  {
   "cell_type": "markdown",
   "metadata": {},
   "source": [
    "## Calculate few-shot accuracy on validation image predicted responses"
   ]
  },
  {
   "cell_type": "code",
   "execution_count": 168,
   "metadata": {},
   "outputs": [],
   "source": [
    "from nsd_manifold.src.geometry import k_rand_label_index, geometry, PCA_geometry, prD"
   ]
  },
  {
   "cell_type": "code",
   "execution_count": null,
   "metadata": {},
   "outputs": [
    {
     "name": "stdout",
     "output_type": "stream",
     "text": [
      "--- Subject 1 ---\n",
      " -- ROI: V1 --\n"
     ]
    },
    {
     "name": "stderr",
     "output_type": "stream",
     "text": [
      "100%|██████████| 999/999 [27:20<00:00,  1.64s/it]\n"
     ]
    },
    {
     "name": "stdout",
     "output_type": "stream",
     "text": [
      " -- ROI: V2 --\n"
     ]
    },
    {
     "name": "stderr",
     "output_type": "stream",
     "text": [
      "100%|██████████| 999/999 [27:23<00:00,  1.65s/it]\n"
     ]
    },
    {
     "name": "stdout",
     "output_type": "stream",
     "text": [
      " -- ROI: V3 --\n"
     ]
    },
    {
     "name": "stderr",
     "output_type": "stream",
     "text": [
      "100%|██████████| 999/999 [27:40<00:00,  1.66s/it]\n"
     ]
    },
    {
     "name": "stdout",
     "output_type": "stream",
     "text": [
      " -- ROI: hV4 --\n"
     ]
    },
    {
     "name": "stderr",
     "output_type": "stream",
     "text": [
      "100%|██████████| 999/999 [27:36<00:00,  1.66s/it]\n"
     ]
    },
    {
     "name": "stdout",
     "output_type": "stream",
     "text": [
      " -- ROI: V3ab --\n"
     ]
    },
    {
     "name": "stderr",
     "output_type": "stream",
     "text": [
      "100%|██████████| 999/999 [27:25<00:00,  1.65s/it]\n"
     ]
    },
    {
     "name": "stdout",
     "output_type": "stream",
     "text": [
      " -- ROI: LO --\n"
     ]
    },
    {
     "name": "stderr",
     "output_type": "stream",
     "text": [
      "100%|██████████| 999/999 [27:29<00:00,  1.65s/it]\n"
     ]
    },
    {
     "name": "stdout",
     "output_type": "stream",
     "text": [
      " -- ROI: IPS --\n"
     ]
    },
    {
     "name": "stderr",
     "output_type": "stream",
     "text": [
      "100%|██████████| 999/999 [27:35<00:00,  1.66s/it]\n"
     ]
    },
    {
     "name": "stdout",
     "output_type": "stream",
     "text": [
      " -- ROI: VO --\n"
     ]
    },
    {
     "name": "stderr",
     "output_type": "stream",
     "text": [
      "100%|██████████| 999/999 [27:24<00:00,  1.65s/it]\n"
     ]
    },
    {
     "name": "stdout",
     "output_type": "stream",
     "text": [
      " -- ROI: PHC --\n"
     ]
    },
    {
     "name": "stderr",
     "output_type": "stream",
     "text": [
      "100%|██████████| 999/999 [27:35<00:00,  1.66s/it]\n"
     ]
    },
    {
     "name": "stdout",
     "output_type": "stream",
     "text": [
      " -- ROI: MT --\n"
     ]
    },
    {
     "name": "stderr",
     "output_type": "stream",
     "text": [
      "100%|██████████| 999/999 [27:41<00:00,  1.66s/it]\n"
     ]
    },
    {
     "name": "stdout",
     "output_type": "stream",
     "text": [
      " -- ROI: MST --\n"
     ]
    },
    {
     "name": "stderr",
     "output_type": "stream",
     "text": [
      " 24%|██▎       | 235/999 [11:38<34:20,  2.70s/it]"
     ]
    }
   ],
   "source": [
    "m = 5\n",
    "K = 1000\n",
    "V = 300\n",
    "n_samples = 16\n",
    "\n",
    "pred_id = image_pred_dict['label']\n",
    "\n",
    "roiwise_K_shot_err, roiwise_K_shot_std = {}, {}\n",
    "for s in subjects:\n",
    "\n",
    "    print ('--- Subject %s ---' %s)\n",
    "    roiwise_K_shot_err[s] = {}\n",
    "    roiwise_K_shot_std[s] = {}\n",
    "    \n",
    "    for roi_mask, roi_name in iterate_roi(group, voxel_roi[s], roi_map, group_names):\n",
    "\n",
    "        print (' -- ROI: %s --'%roi_name)\n",
    "        A = np.random.randn(np.sum(roi_mask),V) / np.sqrt(V)\n",
    "        #pred = subject_imnet_pred[s][:,roi_mask]@A\n",
    "        pred = image_pred_dict['pred']['%s'%s][:,roi_mask]@A\n",
    "        \n",
    "        K_shot_err = np.zeros(shape=(K, K), dtype=np.float32)\n",
    "        K_shot_std = np.zeros(shape=(K, K), dtype=np.float32)\n",
    "        for l1 in tqdm(range(K-1)):\n",
    "            idx1, cidx1 = k_rand_label_index(pred_id, 0, l1)\n",
    "            for l2 in range(l1+1, K):\n",
    "                idx2, cidx2 = k_rand_label_index(pred_id, 0, l2)\n",
    "\n",
    "                err_ab, err_ba = [], []\n",
    "                for _ in range(n_samples):\n",
    "                    np.random.shuffle(cidx1)\n",
    "                    np.random.shuffle(cidx2)\n",
    "\n",
    "                    m1 = np.mean(pred[cidx1[:m]], axis=0, keepdims=True) # [1, voxels]\n",
    "                    m2 = np.mean(pred[cidx2[:m]], axis=0, keepdims=True) # [1, voxels] \n",
    "\n",
    "                    # how many of the remaining obj1 example are closer to m1 than m2?\n",
    "                    x = pred[cidx1[m:]]\n",
    "                    err_ab += [np.mean((np.sum((x-m1)**2, axis=1) > np.sum((x-m2)**2, axis=1)).astype(np.float)),]\n",
    "\n",
    "                    # how many of the remaining obj2 example are closer to m2 than m1?\n",
    "                    x = pred[cidx2[m:]]\n",
    "                    err_ba += [np.mean((np.sum((x-m1)**2, axis=1) < np.sum((x-m2)**2, axis=1)).astype(np.float)),]\n",
    "\n",
    "                K_shot_err[l1,l2] = np.mean(np.array(err_ab))\n",
    "                K_shot_err[l2,l1] = np.mean(np.array(err_ba))\n",
    "                K_shot_std[l1,l2] = np.std(np.array(err_ab))\n",
    "                K_shot_std[l2,l1] = np.std(np.array(err_ba))\n",
    "\n",
    "        roiwise_K_shot_err[s][roi_name] = K_shot_err\n",
    "        roiwise_K_shot_std[s][roi_name] = K_shot_std"
   ]
  },
  {
   "cell_type": "code",
   "execution_count": null,
   "metadata": {},
   "outputs": [],
   "source": [
    "save_stuff( output_dir + 'imagenet_manifold_%dshot_err_all'%(m), \n",
    "    flatten_dict({'err': roiwise_K_shot_err,\n",
    "                  'std': roiwise_K_shot_std,\n",
    "                  #'objID1k': np.array(objID)\n",
    "            }))"
   ]
  },
  {
   "cell_type": "markdown",
   "metadata": {},
   "source": [
    "# Load training image set prediction and calculate concept manifold linear geometry and SNR characteristics"
   ]
  },
  {
   "cell_type": "code",
   "execution_count": 29,
   "metadata": {},
   "outputs": [],
   "source": [
    "from nsd_manifold.src.geometry import k_rand_label_index, geometry, PCA_geometry, prD"
   ]
  },
  {
   "cell_type": "code",
   "execution_count": 164,
   "metadata": {},
   "outputs": [
    {
     "name": "stdout",
     "output_type": "stream",
     "text": [
      "dict_keys(['brain_nii_shape', 'label', 'pred', 'voxel_index', 'voxel_mask', 'voxel_roi'])\n"
     ]
    },
    {
     "name": "stderr",
     "output_type": "stream",
     "text": [
      "100%|██████████| 1000/1000 [01:58<00:00,  8.47it/s]\n"
     ]
    },
    {
     "name": "stdout",
     "output_type": "stream",
     "text": [
      "(1000, 700, 300)\n"
     ]
    },
    {
     "name": "stderr",
     "output_type": "stream",
     "text": [
      "100%|██████████| 1000/1000 [01:53<00:00,  8.82it/s]\n",
      "100%|██████████| 1000/1000 [01:44<00:00,  9.53it/s]\n"
     ]
    },
    {
     "name": "stdout",
     "output_type": "stream",
     "text": [
      "(1000, 700, 300)\n"
     ]
    },
    {
     "name": "stderr",
     "output_type": "stream",
     "text": [
      "100%|██████████| 1000/1000 [01:53<00:00,  8.81it/s]\n",
      "100%|██████████| 1000/1000 [01:21<00:00, 12.24it/s]\n"
     ]
    },
    {
     "name": "stdout",
     "output_type": "stream",
     "text": [
      "(1000, 700, 300)\n"
     ]
    },
    {
     "name": "stderr",
     "output_type": "stream",
     "text": [
      "100%|██████████| 1000/1000 [01:52<00:00,  8.89it/s]\n",
      "100%|██████████| 1000/1000 [00:20<00:00, 49.25it/s]\n"
     ]
    },
    {
     "name": "stdout",
     "output_type": "stream",
     "text": [
      "(1000, 700, 300)\n"
     ]
    },
    {
     "name": "stderr",
     "output_type": "stream",
     "text": [
      "100%|██████████| 1000/1000 [01:52<00:00,  8.87it/s]\n",
      "100%|██████████| 1000/1000 [00:31<00:00, 31.61it/s]\n"
     ]
    },
    {
     "name": "stdout",
     "output_type": "stream",
     "text": [
      "(1000, 700, 300)\n"
     ]
    },
    {
     "name": "stderr",
     "output_type": "stream",
     "text": [
      "100%|██████████| 1000/1000 [01:53<00:00,  8.79it/s]\n",
      "100%|██████████| 1000/1000 [00:13<00:00, 75.26it/s]\n"
     ]
    },
    {
     "name": "stdout",
     "output_type": "stream",
     "text": [
      "(1000, 700, 300)\n"
     ]
    },
    {
     "name": "stderr",
     "output_type": "stream",
     "text": [
      "100%|██████████| 1000/1000 [01:53<00:00,  8.81it/s]\n",
      "100%|██████████| 1000/1000 [01:46<00:00,  9.36it/s]\n"
     ]
    },
    {
     "name": "stdout",
     "output_type": "stream",
     "text": [
      "(1000, 700, 300)\n"
     ]
    },
    {
     "name": "stderr",
     "output_type": "stream",
     "text": [
      "100%|██████████| 1000/1000 [01:56<00:00,  8.61it/s]\n",
      "100%|██████████| 1000/1000 [00:13<00:00, 76.00it/s]\n"
     ]
    },
    {
     "name": "stdout",
     "output_type": "stream",
     "text": [
      "(1000, 700, 300)\n"
     ]
    },
    {
     "name": "stderr",
     "output_type": "stream",
     "text": [
      "100%|██████████| 1000/1000 [01:56<00:00,  8.60it/s]\n",
      "100%|██████████| 1000/1000 [00:10<00:00, 92.51it/s]\n"
     ]
    },
    {
     "name": "stdout",
     "output_type": "stream",
     "text": [
      "(1000, 700, 300)\n"
     ]
    },
    {
     "name": "stderr",
     "output_type": "stream",
     "text": [
      "100%|██████████| 1000/1000 [01:53<00:00,  8.82it/s]\n",
      "100%|██████████| 1000/1000 [00:08<00:00, 114.61it/s]\n"
     ]
    },
    {
     "name": "stdout",
     "output_type": "stream",
     "text": [
      "(1000, 700, 300)\n"
     ]
    },
    {
     "name": "stderr",
     "output_type": "stream",
     "text": [
      "100%|██████████| 1000/1000 [01:51<00:00,  9.01it/s]\n",
      "100%|██████████| 1000/1000 [00:04<00:00, 244.58it/s]\n"
     ]
    },
    {
     "name": "stdout",
     "output_type": "stream",
     "text": [
      "(1000, 700, 300)\n"
     ]
    },
    {
     "name": "stderr",
     "output_type": "stream",
     "text": [
      "100%|██████████| 1000/1000 [01:34<00:00, 10.57it/s]\n",
      "100%|██████████| 1000/1000 [09:50<00:00,  1.69it/s]\n"
     ]
    },
    {
     "name": "stdout",
     "output_type": "stream",
     "text": [
      "(1000, 700, 300)\n"
     ]
    },
    {
     "name": "stderr",
     "output_type": "stream",
     "text": [
      "100%|██████████| 1000/1000 [01:52<00:00,  8.86it/s]\n",
      "100%|██████████| 1000/1000 [00:07<00:00, 135.03it/s]\n"
     ]
    },
    {
     "name": "stdout",
     "output_type": "stream",
     "text": [
      "(1000, 700, 300)\n"
     ]
    },
    {
     "name": "stderr",
     "output_type": "stream",
     "text": [
      "100%|██████████| 1000/1000 [01:49<00:00,  9.17it/s]\n"
     ]
    },
    {
     "name": "stdout",
     "output_type": "stream",
     "text": [
      "saved R0.V1 in h5py file\n",
      "saved R0.V2 in h5py file\n",
      "saved R0.V3 in h5py file\n",
      "saved R0.hV4 in h5py file\n",
      "saved R0.V3ab in h5py file\n",
      "saved R0.LO in h5py file\n",
      "saved R0.IPS in h5py file\n",
      "saved R0.VO in h5py file\n",
      "saved R0.PHC in h5py file\n",
      "saved R0.MT in h5py file\n",
      "saved R0.MST in h5py file\n",
      "saved R0.all in h5py file\n",
      "saved R0.other in h5py file\n",
      "saved Rs.V1 in h5py file\n",
      "saved Rs.V2 in h5py file\n",
      "saved Rs.V3 in h5py file\n",
      "saved Rs.hV4 in h5py file\n",
      "saved Rs.V3ab in h5py file\n",
      "saved Rs.LO in h5py file\n",
      "saved Rs.IPS in h5py file\n",
      "saved Rs.VO in h5py file\n",
      "saved Rs.PHC in h5py file\n",
      "saved Rs.MT in h5py file\n",
      "saved Rs.MST in h5py file\n",
      "saved Rs.all in h5py file\n",
      "saved Rs.other in h5py file\n",
      "saved Us.V1 in h5py file\n",
      "saved Us.V2 in h5py file\n",
      "saved Us.V3 in h5py file\n",
      "saved Us.hV4 in h5py file\n",
      "saved Us.V3ab in h5py file\n",
      "saved Us.LO in h5py file\n",
      "saved Us.IPS in h5py file\n",
      "saved Us.VO in h5py file\n",
      "saved Us.PHC in h5py file\n",
      "saved Us.MT in h5py file\n",
      "saved Us.MST in h5py file\n",
      "saved Us.all in h5py file\n",
      "saved Us.other in h5py file\n",
      "saved rproj.V1 in h5py file\n",
      "saved rproj.V2 in h5py file\n",
      "saved rproj.V3 in h5py file\n",
      "saved rproj.hV4 in h5py file\n",
      "saved rproj.V3ab in h5py file\n",
      "saved rproj.LO in h5py file\n",
      "saved rproj.IPS in h5py file\n",
      "saved rproj.VO in h5py file\n",
      "saved rproj.PHC in h5py file\n",
      "saved rproj.MT in h5py file\n",
      "saved rproj.MST in h5py file\n",
      "saved rproj.all in h5py file\n",
      "saved rproj.other in h5py file\n",
      "saved P in h5py file\n",
      "saved K in h5py file\n",
      "saved V in h5py file\n",
      "First pass\n"
     ]
    },
    {
     "name": "stderr",
     "output_type": "stream",
     "text": [
      "100%|██████████| 1000/1000 [01:31<00:00, 10.94it/s]\n"
     ]
    },
    {
     "name": "stdout",
     "output_type": "stream",
     "text": [
      "Second pass\n"
     ]
    },
    {
     "name": "stderr",
     "output_type": "stream",
     "text": [
      "100%|██████████| 1000/1000 [22:42<00:00,  1.36s/it]\n"
     ]
    },
    {
     "name": "stdout",
     "output_type": "stream",
     "text": [
      "First pass\n"
     ]
    },
    {
     "name": "stderr",
     "output_type": "stream",
     "text": [
      "100%|██████████| 1000/1000 [01:30<00:00, 11.03it/s]\n"
     ]
    },
    {
     "name": "stdout",
     "output_type": "stream",
     "text": [
      "Second pass\n"
     ]
    },
    {
     "name": "stderr",
     "output_type": "stream",
     "text": [
      "100%|██████████| 1000/1000 [22:32<00:00,  1.35s/it]\n"
     ]
    },
    {
     "name": "stdout",
     "output_type": "stream",
     "text": [
      "First pass\n"
     ]
    },
    {
     "name": "stderr",
     "output_type": "stream",
     "text": [
      "100%|██████████| 1000/1000 [01:31<00:00, 10.96it/s]\n"
     ]
    },
    {
     "name": "stdout",
     "output_type": "stream",
     "text": [
      "Second pass\n"
     ]
    },
    {
     "name": "stderr",
     "output_type": "stream",
     "text": [
      "100%|██████████| 1000/1000 [21:48<00:00,  1.31s/it]\n"
     ]
    },
    {
     "name": "stdout",
     "output_type": "stream",
     "text": [
      "First pass\n"
     ]
    },
    {
     "name": "stderr",
     "output_type": "stream",
     "text": [
      "100%|██████████| 1000/1000 [01:28<00:00, 11.26it/s]\n"
     ]
    },
    {
     "name": "stdout",
     "output_type": "stream",
     "text": [
      "Second pass\n"
     ]
    },
    {
     "name": "stderr",
     "output_type": "stream",
     "text": [
      "100%|██████████| 1000/1000 [23:01<00:00,  1.38s/it]\n"
     ]
    },
    {
     "name": "stdout",
     "output_type": "stream",
     "text": [
      "First pass\n"
     ]
    },
    {
     "name": "stderr",
     "output_type": "stream",
     "text": [
      "100%|██████████| 1000/1000 [01:31<00:00, 10.98it/s]\n"
     ]
    },
    {
     "name": "stdout",
     "output_type": "stream",
     "text": [
      "Second pass\n"
     ]
    },
    {
     "name": "stderr",
     "output_type": "stream",
     "text": [
      "100%|██████████| 1000/1000 [22:44<00:00,  1.36s/it]\n"
     ]
    },
    {
     "name": "stdout",
     "output_type": "stream",
     "text": [
      "First pass\n"
     ]
    },
    {
     "name": "stderr",
     "output_type": "stream",
     "text": [
      "100%|██████████| 1000/1000 [01:27<00:00, 11.43it/s]\n"
     ]
    },
    {
     "name": "stdout",
     "output_type": "stream",
     "text": [
      "Second pass\n"
     ]
    },
    {
     "name": "stderr",
     "output_type": "stream",
     "text": [
      "100%|██████████| 1000/1000 [22:27<00:00,  1.35s/it]\n"
     ]
    },
    {
     "name": "stdout",
     "output_type": "stream",
     "text": [
      "First pass\n"
     ]
    },
    {
     "name": "stderr",
     "output_type": "stream",
     "text": [
      "100%|██████████| 1000/1000 [01:24<00:00, 11.90it/s]\n"
     ]
    },
    {
     "name": "stdout",
     "output_type": "stream",
     "text": [
      "Second pass\n"
     ]
    },
    {
     "name": "stderr",
     "output_type": "stream",
     "text": [
      "100%|██████████| 1000/1000 [23:18<00:00,  1.40s/it]\n"
     ]
    },
    {
     "name": "stdout",
     "output_type": "stream",
     "text": [
      "First pass\n"
     ]
    },
    {
     "name": "stderr",
     "output_type": "stream",
     "text": [
      "100%|██████████| 1000/1000 [01:25<00:00, 11.72it/s]\n"
     ]
    },
    {
     "name": "stdout",
     "output_type": "stream",
     "text": [
      "Second pass\n"
     ]
    },
    {
     "name": "stderr",
     "output_type": "stream",
     "text": [
      "100%|██████████| 1000/1000 [22:22<00:00,  1.34s/it]\n"
     ]
    },
    {
     "name": "stdout",
     "output_type": "stream",
     "text": [
      "First pass\n"
     ]
    },
    {
     "name": "stderr",
     "output_type": "stream",
     "text": [
      "100%|██████████| 1000/1000 [01:25<00:00, 11.74it/s]\n"
     ]
    },
    {
     "name": "stdout",
     "output_type": "stream",
     "text": [
      "Second pass\n"
     ]
    },
    {
     "name": "stderr",
     "output_type": "stream",
     "text": [
      "100%|██████████| 1000/1000 [22:42<00:00,  1.36s/it]\n"
     ]
    },
    {
     "name": "stdout",
     "output_type": "stream",
     "text": [
      "First pass\n"
     ]
    },
    {
     "name": "stderr",
     "output_type": "stream",
     "text": [
      "100%|██████████| 1000/1000 [01:23<00:00, 11.95it/s]\n"
     ]
    },
    {
     "name": "stdout",
     "output_type": "stream",
     "text": [
      "Second pass\n"
     ]
    },
    {
     "name": "stderr",
     "output_type": "stream",
     "text": [
      "100%|██████████| 1000/1000 [22:33<00:00,  1.35s/it]\n"
     ]
    },
    {
     "name": "stdout",
     "output_type": "stream",
     "text": [
      "First pass\n"
     ]
    },
    {
     "name": "stderr",
     "output_type": "stream",
     "text": [
      "100%|██████████| 1000/1000 [01:25<00:00, 11.73it/s]\n"
     ]
    },
    {
     "name": "stdout",
     "output_type": "stream",
     "text": [
      "Second pass\n"
     ]
    },
    {
     "name": "stderr",
     "output_type": "stream",
     "text": [
      "100%|██████████| 1000/1000 [21:56<00:00,  1.32s/it]\n"
     ]
    },
    {
     "name": "stdout",
     "output_type": "stream",
     "text": [
      "First pass\n"
     ]
    },
    {
     "name": "stderr",
     "output_type": "stream",
     "text": [
      "100%|██████████| 1000/1000 [01:23<00:00, 11.99it/s]\n"
     ]
    },
    {
     "name": "stdout",
     "output_type": "stream",
     "text": [
      "Second pass\n"
     ]
    },
    {
     "name": "stderr",
     "output_type": "stream",
     "text": [
      "100%|██████████| 1000/1000 [22:31<00:00,  1.35s/it]\n"
     ]
    },
    {
     "name": "stdout",
     "output_type": "stream",
     "text": [
      "First pass\n"
     ]
    },
    {
     "name": "stderr",
     "output_type": "stream",
     "text": [
      "100%|██████████| 1000/1000 [01:23<00:00, 11.98it/s]\n"
     ]
    },
    {
     "name": "stdout",
     "output_type": "stream",
     "text": [
      "Second pass\n"
     ]
    },
    {
     "name": "stderr",
     "output_type": "stream",
     "text": [
      "100%|██████████| 1000/1000 [22:15<00:00,  1.34s/it]\n"
     ]
    },
    {
     "name": "stdout",
     "output_type": "stream",
     "text": [
      "saved Sign.V1 in h5py file\n",
      "saved Sign.V2 in h5py file\n",
      "saved Sign.V3 in h5py file\n",
      "saved Sign.hV4 in h5py file\n",
      "saved Sign.V3ab in h5py file\n",
      "saved Sign.LO in h5py file\n",
      "saved Sign.IPS in h5py file\n",
      "saved Sign.VO in h5py file\n",
      "saved Sign.PHC in h5py file\n",
      "saved Sign.MT in h5py file\n",
      "saved Sign.MST in h5py file\n",
      "saved Sign.all in h5py file\n",
      "saved Sign.other in h5py file\n",
      "saved Bias.V1 in h5py file\n",
      "saved Bias.V2 in h5py file\n",
      "saved Bias.V3 in h5py file\n",
      "saved Bias.hV4 in h5py file\n",
      "saved Bias.V3ab in h5py file\n",
      "saved Bias.LO in h5py file\n",
      "saved Bias.IPS in h5py file\n",
      "saved Bias.VO in h5py file\n",
      "saved Bias.PHC in h5py file\n",
      "saved Bias.MT in h5py file\n",
      "saved Bias.MST in h5py file\n",
      "saved Bias.all in h5py file\n",
      "saved Bias.other in h5py file\n",
      "saved Nsa.V1 in h5py file\n",
      "saved Nsa.V2 in h5py file\n",
      "saved Nsa.V3 in h5py file\n",
      "saved Nsa.hV4 in h5py file\n",
      "saved Nsa.V3ab in h5py file\n",
      "saved Nsa.LO in h5py file\n",
      "saved Nsa.IPS in h5py file\n",
      "saved Nsa.VO in h5py file\n",
      "saved Nsa.PHC in h5py file\n",
      "saved Nsa.MT in h5py file\n",
      "saved Nsa.MST in h5py file\n",
      "saved Nsa.all in h5py file\n",
      "saved Nsa.other in h5py file\n",
      "saved Nsb.V1 in h5py file\n",
      "saved Nsb.V2 in h5py file\n",
      "saved Nsb.V3 in h5py file\n",
      "saved Nsb.hV4 in h5py file\n",
      "saved Nsb.V3ab in h5py file\n",
      "saved Nsb.LO in h5py file\n",
      "saved Nsb.IPS in h5py file\n",
      "saved Nsb.VO in h5py file\n",
      "saved Nsb.PHC in h5py file\n",
      "saved Nsb.MT in h5py file\n",
      "saved Nsb.MST in h5py file\n",
      "saved Nsb.all in h5py file\n",
      "saved Nsb.other in h5py file\n",
      "saved Nss.V1 in h5py file\n",
      "saved Nss.V2 in h5py file\n",
      "saved Nss.V3 in h5py file\n",
      "saved Nss.hV4 in h5py file\n",
      "saved Nss.V3ab in h5py file\n",
      "saved Nss.LO in h5py file\n",
      "saved Nss.IPS in h5py file\n",
      "saved Nss.VO in h5py file\n",
      "saved Nss.PHC in h5py file\n",
      "saved Nss.MT in h5py file\n",
      "saved Nss.MST in h5py file\n",
      "saved Nss.all in h5py file\n",
      "saved Nss.other in h5py file\n",
      "saved Ds.V1 in h5py file\n",
      "saved Ds.V2 in h5py file\n",
      "saved Ds.V3 in h5py file\n",
      "saved Ds.hV4 in h5py file\n",
      "saved Ds.V3ab in h5py file\n",
      "saved Ds.LO in h5py file\n",
      "saved Ds.IPS in h5py file\n",
      "saved Ds.VO in h5py file\n",
      "saved Ds.PHC in h5py file\n",
      "saved Ds.MT in h5py file\n",
      "saved Ds.MST in h5py file\n",
      "saved Ds.all in h5py file\n",
      "saved Ds.other in h5py file\n",
      "saved SNR.V1 in h5py file\n",
      "saved SNR.V2 in h5py file\n",
      "saved SNR.V3 in h5py file\n",
      "saved SNR.hV4 in h5py file\n",
      "saved SNR.V3ab in h5py file\n",
      "saved SNR.LO in h5py file\n",
      "saved SNR.IPS in h5py file\n",
      "saved SNR.VO in h5py file\n",
      "saved SNR.PHC in h5py file\n",
      "saved SNR.MT in h5py file\n",
      "saved SNR.MST in h5py file\n",
      "saved SNR.all in h5py file\n",
      "saved SNR.other in h5py file\n",
      "saved m in h5py file\n",
      "saved P in h5py file\n",
      "dict_keys(['brain_nii_shape', 'label', 'pred', 'voxel_index', 'voxel_mask', 'voxel_roi'])\n"
     ]
    },
    {
     "name": "stderr",
     "output_type": "stream",
     "text": [
      "100%|██████████| 1000/1000 [01:02<00:00, 15.98it/s]\n"
     ]
    },
    {
     "name": "stdout",
     "output_type": "stream",
     "text": [
      "(1000, 700, 300)\n"
     ]
    },
    {
     "name": "stderr",
     "output_type": "stream",
     "text": [
      "100%|██████████| 1000/1000 [01:51<00:00,  8.95it/s]\n",
      "100%|██████████| 1000/1000 [00:58<00:00, 17.18it/s]\n"
     ]
    },
    {
     "name": "stdout",
     "output_type": "stream",
     "text": [
      "(1000, 700, 300)\n"
     ]
    },
    {
     "name": "stderr",
     "output_type": "stream",
     "text": [
      "100%|██████████| 1000/1000 [01:51<00:00,  9.00it/s]\n",
      "100%|██████████| 1000/1000 [01:00<00:00, 16.55it/s]\n"
     ]
    },
    {
     "name": "stdout",
     "output_type": "stream",
     "text": [
      "(1000, 700, 300)\n"
     ]
    },
    {
     "name": "stderr",
     "output_type": "stream",
     "text": [
      "100%|██████████| 1000/1000 [01:50<00:00,  9.02it/s]\n",
      "100%|██████████| 1000/1000 [00:14<00:00, 67.05it/s]\n"
     ]
    },
    {
     "name": "stdout",
     "output_type": "stream",
     "text": [
      "(1000, 700, 300)\n"
     ]
    },
    {
     "name": "stderr",
     "output_type": "stream",
     "text": [
      "100%|██████████| 1000/1000 [01:50<00:00,  9.07it/s]\n",
      "100%|██████████| 1000/1000 [00:25<00:00, 39.46it/s]\n"
     ]
    },
    {
     "name": "stdout",
     "output_type": "stream",
     "text": [
      "(1000, 700, 300)\n"
     ]
    },
    {
     "name": "stderr",
     "output_type": "stream",
     "text": [
      "100%|██████████| 1000/1000 [01:51<00:00,  9.00it/s]\n",
      "100%|██████████| 1000/1000 [00:13<00:00, 72.11it/s]\n"
     ]
    },
    {
     "name": "stdout",
     "output_type": "stream",
     "text": [
      "(1000, 700, 300)\n"
     ]
    },
    {
     "name": "stderr",
     "output_type": "stream",
     "text": [
      "100%|██████████| 1000/1000 [01:50<00:00,  9.06it/s]\n",
      "100%|██████████| 1000/1000 [01:35<00:00, 10.46it/s]\n"
     ]
    },
    {
     "name": "stdout",
     "output_type": "stream",
     "text": [
      "(1000, 700, 300)\n"
     ]
    },
    {
     "name": "stderr",
     "output_type": "stream",
     "text": [
      "100%|██████████| 1000/1000 [01:50<00:00,  9.02it/s]\n",
      "100%|██████████| 1000/1000 [00:11<00:00, 87.89it/s]\n"
     ]
    },
    {
     "name": "stdout",
     "output_type": "stream",
     "text": [
      "(1000, 700, 300)\n"
     ]
    },
    {
     "name": "stderr",
     "output_type": "stream",
     "text": [
      "100%|██████████| 1000/1000 [01:51<00:00,  8.99it/s]\n",
      "100%|██████████| 1000/1000 [00:10<00:00, 98.94it/s]\n"
     ]
    },
    {
     "name": "stdout",
     "output_type": "stream",
     "text": [
      "(1000, 700, 300)\n"
     ]
    },
    {
     "name": "stderr",
     "output_type": "stream",
     "text": [
      "100%|██████████| 1000/1000 [01:52<00:00,  8.88it/s]\n",
      "100%|██████████| 1000/1000 [00:10<00:00, 96.89it/s]\n"
     ]
    },
    {
     "name": "stdout",
     "output_type": "stream",
     "text": [
      "(1000, 700, 300)\n"
     ]
    },
    {
     "name": "stderr",
     "output_type": "stream",
     "text": [
      "100%|██████████| 1000/1000 [01:50<00:00,  9.06it/s]\n",
      "100%|██████████| 1000/1000 [00:03<00:00, 315.94it/s]\n"
     ]
    },
    {
     "name": "stdout",
     "output_type": "stream",
     "text": [
      "(1000, 700, 300)\n"
     ]
    },
    {
     "name": "stderr",
     "output_type": "stream",
     "text": [
      "100%|██████████| 1000/1000 [01:33<00:00, 10.74it/s]\n",
      "100%|██████████| 1000/1000 [07:59<00:00,  2.08it/s]\n"
     ]
    },
    {
     "name": "stdout",
     "output_type": "stream",
     "text": [
      "(1000, 700, 300)\n"
     ]
    },
    {
     "name": "stderr",
     "output_type": "stream",
     "text": [
      "100%|██████████| 1000/1000 [01:49<00:00,  9.16it/s]\n",
      "100%|██████████| 1000/1000 [00:08<00:00, 119.18it/s]\n"
     ]
    },
    {
     "name": "stdout",
     "output_type": "stream",
     "text": [
      "(1000, 700, 300)\n"
     ]
    },
    {
     "name": "stderr",
     "output_type": "stream",
     "text": [
      "100%|██████████| 1000/1000 [01:48<00:00,  9.21it/s]\n"
     ]
    },
    {
     "name": "stdout",
     "output_type": "stream",
     "text": [
      "saved R0.V1 in h5py file\n",
      "saved R0.V2 in h5py file\n",
      "saved R0.V3 in h5py file\n",
      "saved R0.hV4 in h5py file\n",
      "saved R0.V3ab in h5py file\n",
      "saved R0.LO in h5py file\n",
      "saved R0.IPS in h5py file\n",
      "saved R0.VO in h5py file\n",
      "saved R0.PHC in h5py file\n",
      "saved R0.MT in h5py file\n",
      "saved R0.MST in h5py file\n",
      "saved R0.all in h5py file\n",
      "saved R0.other in h5py file\n",
      "saved Rs.V1 in h5py file\n",
      "saved Rs.V2 in h5py file\n",
      "saved Rs.V3 in h5py file\n",
      "saved Rs.hV4 in h5py file\n",
      "saved Rs.V3ab in h5py file\n",
      "saved Rs.LO in h5py file\n",
      "saved Rs.IPS in h5py file\n",
      "saved Rs.VO in h5py file\n",
      "saved Rs.PHC in h5py file\n",
      "saved Rs.MT in h5py file\n",
      "saved Rs.MST in h5py file\n",
      "saved Rs.all in h5py file\n",
      "saved Rs.other in h5py file\n",
      "saved Us.V1 in h5py file\n",
      "saved Us.V2 in h5py file\n",
      "saved Us.V3 in h5py file\n",
      "saved Us.hV4 in h5py file\n",
      "saved Us.V3ab in h5py file\n",
      "saved Us.LO in h5py file\n",
      "saved Us.IPS in h5py file\n",
      "saved Us.VO in h5py file\n",
      "saved Us.PHC in h5py file\n",
      "saved Us.MT in h5py file\n",
      "saved Us.MST in h5py file\n",
      "saved Us.all in h5py file\n",
      "saved Us.other in h5py file\n",
      "saved rproj.V1 in h5py file\n",
      "saved rproj.V2 in h5py file\n",
      "saved rproj.V3 in h5py file\n",
      "saved rproj.hV4 in h5py file\n",
      "saved rproj.V3ab in h5py file\n",
      "saved rproj.LO in h5py file\n",
      "saved rproj.IPS in h5py file\n",
      "saved rproj.VO in h5py file\n",
      "saved rproj.PHC in h5py file\n",
      "saved rproj.MT in h5py file\n",
      "saved rproj.MST in h5py file\n",
      "saved rproj.all in h5py file\n",
      "saved rproj.other in h5py file\n",
      "saved P in h5py file\n",
      "saved K in h5py file\n",
      "saved V in h5py file\n",
      "First pass\n"
     ]
    },
    {
     "name": "stderr",
     "output_type": "stream",
     "text": [
      "100%|██████████| 1000/1000 [01:25<00:00, 11.74it/s]\n"
     ]
    },
    {
     "name": "stdout",
     "output_type": "stream",
     "text": [
      "Second pass\n"
     ]
    },
    {
     "name": "stderr",
     "output_type": "stream",
     "text": [
      "100%|██████████| 1000/1000 [23:28<00:00,  1.41s/it]\n"
     ]
    },
    {
     "name": "stdout",
     "output_type": "stream",
     "text": [
      "First pass\n"
     ]
    },
    {
     "name": "stderr",
     "output_type": "stream",
     "text": [
      "100%|██████████| 1000/1000 [01:24<00:00, 11.81it/s]\n"
     ]
    },
    {
     "name": "stdout",
     "output_type": "stream",
     "text": [
      "Second pass\n"
     ]
    },
    {
     "name": "stderr",
     "output_type": "stream",
     "text": [
      "100%|██████████| 1000/1000 [22:33<00:00,  1.35s/it]\n"
     ]
    },
    {
     "name": "stdout",
     "output_type": "stream",
     "text": [
      "First pass\n"
     ]
    },
    {
     "name": "stderr",
     "output_type": "stream",
     "text": [
      "100%|██████████| 1000/1000 [01:25<00:00, 11.73it/s]\n"
     ]
    },
    {
     "name": "stdout",
     "output_type": "stream",
     "text": [
      "Second pass\n"
     ]
    },
    {
     "name": "stderr",
     "output_type": "stream",
     "text": [
      "100%|██████████| 1000/1000 [22:24<00:00,  1.34s/it]\n"
     ]
    },
    {
     "name": "stdout",
     "output_type": "stream",
     "text": [
      "First pass\n"
     ]
    },
    {
     "name": "stderr",
     "output_type": "stream",
     "text": [
      "100%|██████████| 1000/1000 [01:22<00:00, 12.15it/s]\n"
     ]
    },
    {
     "name": "stdout",
     "output_type": "stream",
     "text": [
      "Second pass\n"
     ]
    },
    {
     "name": "stderr",
     "output_type": "stream",
     "text": [
      "100%|██████████| 1000/1000 [22:35<00:00,  1.36s/it]\n"
     ]
    },
    {
     "name": "stdout",
     "output_type": "stream",
     "text": [
      "First pass\n"
     ]
    },
    {
     "name": "stderr",
     "output_type": "stream",
     "text": [
      "100%|██████████| 1000/1000 [01:24<00:00, 11.78it/s]\n"
     ]
    },
    {
     "name": "stdout",
     "output_type": "stream",
     "text": [
      "Second pass\n"
     ]
    },
    {
     "name": "stderr",
     "output_type": "stream",
     "text": [
      "100%|██████████| 1000/1000 [21:57<00:00,  1.32s/it]\n"
     ]
    },
    {
     "name": "stdout",
     "output_type": "stream",
     "text": [
      "First pass\n"
     ]
    },
    {
     "name": "stderr",
     "output_type": "stream",
     "text": [
      "100%|██████████| 1000/1000 [01:23<00:00, 11.96it/s]\n"
     ]
    },
    {
     "name": "stdout",
     "output_type": "stream",
     "text": [
      "Second pass\n"
     ]
    },
    {
     "name": "stderr",
     "output_type": "stream",
     "text": [
      "100%|██████████| 1000/1000 [22:15<00:00,  1.34s/it]\n"
     ]
    },
    {
     "name": "stdout",
     "output_type": "stream",
     "text": [
      "First pass\n"
     ]
    },
    {
     "name": "stderr",
     "output_type": "stream",
     "text": [
      "100%|██████████| 1000/1000 [01:25<00:00, 11.75it/s]\n"
     ]
    },
    {
     "name": "stdout",
     "output_type": "stream",
     "text": [
      "Second pass\n"
     ]
    },
    {
     "name": "stderr",
     "output_type": "stream",
     "text": [
      "100%|██████████| 1000/1000 [22:16<00:00,  1.34s/it]\n"
     ]
    },
    {
     "name": "stdout",
     "output_type": "stream",
     "text": [
      "First pass\n"
     ]
    },
    {
     "name": "stderr",
     "output_type": "stream",
     "text": [
      "100%|██████████| 1000/1000 [01:24<00:00, 11.84it/s]\n"
     ]
    },
    {
     "name": "stdout",
     "output_type": "stream",
     "text": [
      "Second pass\n"
     ]
    },
    {
     "name": "stderr",
     "output_type": "stream",
     "text": [
      "100%|██████████| 1000/1000 [22:09<00:00,  1.33s/it]\n"
     ]
    },
    {
     "name": "stdout",
     "output_type": "stream",
     "text": [
      "First pass\n"
     ]
    },
    {
     "name": "stderr",
     "output_type": "stream",
     "text": [
      "100%|██████████| 1000/1000 [01:25<00:00, 11.69it/s]\n"
     ]
    },
    {
     "name": "stdout",
     "output_type": "stream",
     "text": [
      "Second pass\n"
     ]
    },
    {
     "name": "stderr",
     "output_type": "stream",
     "text": [
      "100%|██████████| 1000/1000 [22:52<00:00,  1.37s/it]\n"
     ]
    },
    {
     "name": "stdout",
     "output_type": "stream",
     "text": [
      "First pass\n"
     ]
    },
    {
     "name": "stderr",
     "output_type": "stream",
     "text": [
      "100%|██████████| 1000/1000 [01:25<00:00, 11.72it/s]\n"
     ]
    },
    {
     "name": "stdout",
     "output_type": "stream",
     "text": [
      "Second pass\n"
     ]
    },
    {
     "name": "stderr",
     "output_type": "stream",
     "text": [
      "100%|██████████| 1000/1000 [22:36<00:00,  1.36s/it]\n"
     ]
    },
    {
     "name": "stdout",
     "output_type": "stream",
     "text": [
      "First pass\n"
     ]
    },
    {
     "name": "stderr",
     "output_type": "stream",
     "text": [
      "100%|██████████| 1000/1000 [01:25<00:00, 11.69it/s]\n"
     ]
    },
    {
     "name": "stdout",
     "output_type": "stream",
     "text": [
      "Second pass\n"
     ]
    },
    {
     "name": "stderr",
     "output_type": "stream",
     "text": [
      "100%|██████████| 1000/1000 [22:30<00:00,  1.35s/it]\n"
     ]
    },
    {
     "name": "stdout",
     "output_type": "stream",
     "text": [
      "First pass\n"
     ]
    },
    {
     "name": "stderr",
     "output_type": "stream",
     "text": [
      "100%|██████████| 1000/1000 [01:22<00:00, 12.12it/s]\n"
     ]
    },
    {
     "name": "stdout",
     "output_type": "stream",
     "text": [
      "Second pass\n"
     ]
    },
    {
     "name": "stderr",
     "output_type": "stream",
     "text": [
      "100%|██████████| 1000/1000 [22:31<00:00,  1.35s/it]\n"
     ]
    },
    {
     "name": "stdout",
     "output_type": "stream",
     "text": [
      "First pass\n"
     ]
    },
    {
     "name": "stderr",
     "output_type": "stream",
     "text": [
      "100%|██████████| 1000/1000 [01:23<00:00, 12.03it/s]\n"
     ]
    },
    {
     "name": "stdout",
     "output_type": "stream",
     "text": [
      "Second pass\n"
     ]
    },
    {
     "name": "stderr",
     "output_type": "stream",
     "text": [
      "100%|██████████| 1000/1000 [22:42<00:00,  1.36s/it]\n"
     ]
    },
    {
     "name": "stdout",
     "output_type": "stream",
     "text": [
      "saved Sign.V1 in h5py file\n",
      "saved Sign.V2 in h5py file\n",
      "saved Sign.V3 in h5py file\n",
      "saved Sign.hV4 in h5py file\n",
      "saved Sign.V3ab in h5py file\n",
      "saved Sign.LO in h5py file\n",
      "saved Sign.IPS in h5py file\n",
      "saved Sign.VO in h5py file\n",
      "saved Sign.PHC in h5py file\n",
      "saved Sign.MT in h5py file\n",
      "saved Sign.MST in h5py file\n",
      "saved Sign.all in h5py file\n",
      "saved Sign.other in h5py file\n",
      "saved Bias.V1 in h5py file\n",
      "saved Bias.V2 in h5py file\n",
      "saved Bias.V3 in h5py file\n",
      "saved Bias.hV4 in h5py file\n",
      "saved Bias.V3ab in h5py file\n",
      "saved Bias.LO in h5py file\n",
      "saved Bias.IPS in h5py file\n",
      "saved Bias.VO in h5py file\n",
      "saved Bias.PHC in h5py file\n",
      "saved Bias.MT in h5py file\n",
      "saved Bias.MST in h5py file\n",
      "saved Bias.all in h5py file\n",
      "saved Bias.other in h5py file\n",
      "saved Nsa.V1 in h5py file\n",
      "saved Nsa.V2 in h5py file\n",
      "saved Nsa.V3 in h5py file\n",
      "saved Nsa.hV4 in h5py file\n",
      "saved Nsa.V3ab in h5py file\n",
      "saved Nsa.LO in h5py file\n",
      "saved Nsa.IPS in h5py file\n",
      "saved Nsa.VO in h5py file\n",
      "saved Nsa.PHC in h5py file\n",
      "saved Nsa.MT in h5py file\n",
      "saved Nsa.MST in h5py file\n",
      "saved Nsa.all in h5py file\n",
      "saved Nsa.other in h5py file\n",
      "saved Nsb.V1 in h5py file\n",
      "saved Nsb.V2 in h5py file\n",
      "saved Nsb.V3 in h5py file\n",
      "saved Nsb.hV4 in h5py file\n",
      "saved Nsb.V3ab in h5py file\n",
      "saved Nsb.LO in h5py file\n",
      "saved Nsb.IPS in h5py file\n",
      "saved Nsb.VO in h5py file\n",
      "saved Nsb.PHC in h5py file\n",
      "saved Nsb.MT in h5py file\n",
      "saved Nsb.MST in h5py file\n",
      "saved Nsb.all in h5py file\n",
      "saved Nsb.other in h5py file\n",
      "saved Nss.V1 in h5py file\n",
      "saved Nss.V2 in h5py file\n",
      "saved Nss.V3 in h5py file\n",
      "saved Nss.hV4 in h5py file\n",
      "saved Nss.V3ab in h5py file\n",
      "saved Nss.LO in h5py file\n",
      "saved Nss.IPS in h5py file\n",
      "saved Nss.VO in h5py file\n",
      "saved Nss.PHC in h5py file\n",
      "saved Nss.MT in h5py file\n",
      "saved Nss.MST in h5py file\n",
      "saved Nss.all in h5py file\n",
      "saved Nss.other in h5py file\n",
      "saved Ds.V1 in h5py file\n",
      "saved Ds.V2 in h5py file\n",
      "saved Ds.V3 in h5py file\n",
      "saved Ds.hV4 in h5py file\n",
      "saved Ds.V3ab in h5py file\n",
      "saved Ds.LO in h5py file\n",
      "saved Ds.IPS in h5py file\n",
      "saved Ds.VO in h5py file\n",
      "saved Ds.PHC in h5py file\n",
      "saved Ds.MT in h5py file\n",
      "saved Ds.MST in h5py file\n",
      "saved Ds.all in h5py file\n",
      "saved Ds.other in h5py file\n",
      "saved SNR.V1 in h5py file\n",
      "saved SNR.V2 in h5py file\n",
      "saved SNR.V3 in h5py file\n",
      "saved SNR.hV4 in h5py file\n",
      "saved SNR.V3ab in h5py file\n",
      "saved SNR.LO in h5py file\n",
      "saved SNR.IPS in h5py file\n",
      "saved SNR.VO in h5py file\n",
      "saved SNR.PHC in h5py file\n",
      "saved SNR.MT in h5py file\n",
      "saved SNR.MST in h5py file\n",
      "saved SNR.all in h5py file\n",
      "saved SNR.other in h5py file\n",
      "saved m in h5py file\n",
      "saved P in h5py file\n",
      "dict_keys(['brain_nii_shape', 'label', 'pred', 'voxel_index', 'voxel_mask', 'voxel_roi'])\n"
     ]
    },
    {
     "name": "stderr",
     "output_type": "stream",
     "text": [
      "100%|██████████| 1000/1000 [01:36<00:00, 10.41it/s]\n"
     ]
    },
    {
     "name": "stdout",
     "output_type": "stream",
     "text": [
      "(1000, 700, 300)\n"
     ]
    },
    {
     "name": "stderr",
     "output_type": "stream",
     "text": [
      "100%|██████████| 1000/1000 [01:53<00:00,  8.85it/s]\n",
      "100%|██████████| 1000/1000 [01:12<00:00, 13.88it/s]\n"
     ]
    },
    {
     "name": "stdout",
     "output_type": "stream",
     "text": [
      "(1000, 700, 300)\n"
     ]
    },
    {
     "name": "stderr",
     "output_type": "stream",
     "text": [
      "100%|██████████| 1000/1000 [01:50<00:00,  9.09it/s]\n",
      "100%|██████████| 1000/1000 [00:55<00:00, 17.99it/s]\n"
     ]
    },
    {
     "name": "stdout",
     "output_type": "stream",
     "text": [
      "(1000, 700, 300)\n"
     ]
    },
    {
     "name": "stderr",
     "output_type": "stream",
     "text": [
      "100%|██████████| 1000/1000 [01:49<00:00,  9.12it/s]\n",
      "100%|██████████| 1000/1000 [00:13<00:00, 73.46it/s]\n"
     ]
    },
    {
     "name": "stdout",
     "output_type": "stream",
     "text": [
      "(1000, 700, 300)\n"
     ]
    },
    {
     "name": "stderr",
     "output_type": "stream",
     "text": [
      "100%|██████████| 1000/1000 [01:49<00:00,  9.15it/s]\n",
      "100%|██████████| 1000/1000 [00:25<00:00, 38.56it/s]\n"
     ]
    },
    {
     "name": "stdout",
     "output_type": "stream",
     "text": [
      "(1000, 700, 300)\n"
     ]
    },
    {
     "name": "stderr",
     "output_type": "stream",
     "text": [
      "100%|██████████| 1000/1000 [01:51<00:00,  8.99it/s]\n",
      "100%|██████████| 1000/1000 [00:14<00:00, 69.25it/s]\n"
     ]
    },
    {
     "name": "stdout",
     "output_type": "stream",
     "text": [
      "(1000, 700, 300)\n"
     ]
    },
    {
     "name": "stderr",
     "output_type": "stream",
     "text": [
      "100%|██████████| 1000/1000 [01:51<00:00,  8.95it/s]\n",
      "100%|██████████| 1000/1000 [01:35<00:00, 10.44it/s]\n"
     ]
    },
    {
     "name": "stdout",
     "output_type": "stream",
     "text": [
      "(1000, 700, 300)\n"
     ]
    },
    {
     "name": "stderr",
     "output_type": "stream",
     "text": [
      "100%|██████████| 1000/1000 [01:52<00:00,  8.86it/s]\n",
      "100%|██████████| 1000/1000 [00:13<00:00, 75.44it/s]\n"
     ]
    },
    {
     "name": "stdout",
     "output_type": "stream",
     "text": [
      "(1000, 700, 300)\n"
     ]
    },
    {
     "name": "stderr",
     "output_type": "stream",
     "text": [
      "100%|██████████| 1000/1000 [01:51<00:00,  8.94it/s]\n",
      "100%|██████████| 1000/1000 [00:09<00:00, 104.59it/s]\n"
     ]
    },
    {
     "name": "stdout",
     "output_type": "stream",
     "text": [
      "(1000, 700, 300)\n"
     ]
    },
    {
     "name": "stderr",
     "output_type": "stream",
     "text": [
      "100%|██████████| 1000/1000 [01:51<00:00,  8.95it/s]\n",
      "100%|██████████| 1000/1000 [00:12<00:00, 80.45it/s]\n"
     ]
    },
    {
     "name": "stdout",
     "output_type": "stream",
     "text": [
      "(1000, 700, 300)\n"
     ]
    },
    {
     "name": "stderr",
     "output_type": "stream",
     "text": [
      "100%|██████████| 1000/1000 [01:51<00:00,  8.96it/s]\n",
      "100%|██████████| 1000/1000 [00:03<00:00, 283.90it/s]\n"
     ]
    },
    {
     "name": "stdout",
     "output_type": "stream",
     "text": [
      "(1000, 700, 300)\n"
     ]
    },
    {
     "name": "stderr",
     "output_type": "stream",
     "text": [
      "100%|██████████| 1000/1000 [01:36<00:00, 10.35it/s]\n",
      "100%|██████████| 1000/1000 [08:51<00:00,  1.88it/s]\n"
     ]
    },
    {
     "name": "stdout",
     "output_type": "stream",
     "text": [
      "(1000, 700, 300)\n"
     ]
    },
    {
     "name": "stderr",
     "output_type": "stream",
     "text": [
      "100%|██████████| 1000/1000 [01:50<00:00,  9.08it/s]\n",
      "100%|██████████| 1000/1000 [00:08<00:00, 121.93it/s]\n"
     ]
    },
    {
     "name": "stdout",
     "output_type": "stream",
     "text": [
      "(1000, 700, 300)\n"
     ]
    },
    {
     "name": "stderr",
     "output_type": "stream",
     "text": [
      "100%|██████████| 1000/1000 [01:50<00:00,  9.03it/s]\n"
     ]
    },
    {
     "name": "stdout",
     "output_type": "stream",
     "text": [
      "saved R0.V1 in h5py file\n",
      "saved R0.V2 in h5py file\n",
      "saved R0.V3 in h5py file\n",
      "saved R0.hV4 in h5py file\n",
      "saved R0.V3ab in h5py file\n",
      "saved R0.LO in h5py file\n",
      "saved R0.IPS in h5py file\n",
      "saved R0.VO in h5py file\n",
      "saved R0.PHC in h5py file\n",
      "saved R0.MT in h5py file\n",
      "saved R0.MST in h5py file\n",
      "saved R0.all in h5py file\n",
      "saved R0.other in h5py file\n",
      "saved Rs.V1 in h5py file\n",
      "saved Rs.V2 in h5py file\n",
      "saved Rs.V3 in h5py file\n",
      "saved Rs.hV4 in h5py file\n",
      "saved Rs.V3ab in h5py file\n",
      "saved Rs.LO in h5py file\n",
      "saved Rs.IPS in h5py file\n",
      "saved Rs.VO in h5py file\n",
      "saved Rs.PHC in h5py file\n",
      "saved Rs.MT in h5py file\n",
      "saved Rs.MST in h5py file\n",
      "saved Rs.all in h5py file\n",
      "saved Rs.other in h5py file\n",
      "saved Us.V1 in h5py file\n",
      "saved Us.V2 in h5py file\n",
      "saved Us.V3 in h5py file\n",
      "saved Us.hV4 in h5py file\n",
      "saved Us.V3ab in h5py file\n",
      "saved Us.LO in h5py file\n",
      "saved Us.IPS in h5py file\n",
      "saved Us.VO in h5py file\n",
      "saved Us.PHC in h5py file\n",
      "saved Us.MT in h5py file\n",
      "saved Us.MST in h5py file\n",
      "saved Us.all in h5py file\n",
      "saved Us.other in h5py file\n",
      "saved rproj.V1 in h5py file\n",
      "saved rproj.V2 in h5py file\n",
      "saved rproj.V3 in h5py file\n",
      "saved rproj.hV4 in h5py file\n",
      "saved rproj.V3ab in h5py file\n",
      "saved rproj.LO in h5py file\n",
      "saved rproj.IPS in h5py file\n",
      "saved rproj.VO in h5py file\n",
      "saved rproj.PHC in h5py file\n",
      "saved rproj.MT in h5py file\n",
      "saved rproj.MST in h5py file\n",
      "saved rproj.all in h5py file\n",
      "saved rproj.other in h5py file\n",
      "saved P in h5py file\n",
      "saved K in h5py file\n",
      "saved V in h5py file\n",
      "First pass\n"
     ]
    },
    {
     "name": "stderr",
     "output_type": "stream",
     "text": [
      "100%|██████████| 1000/1000 [01:24<00:00, 11.84it/s]\n"
     ]
    },
    {
     "name": "stdout",
     "output_type": "stream",
     "text": [
      "Second pass\n"
     ]
    },
    {
     "name": "stderr",
     "output_type": "stream",
     "text": [
      "100%|██████████| 1000/1000 [22:41<00:00,  1.36s/it]\n"
     ]
    },
    {
     "name": "stdout",
     "output_type": "stream",
     "text": [
      "First pass\n"
     ]
    },
    {
     "name": "stderr",
     "output_type": "stream",
     "text": [
      "100%|██████████| 1000/1000 [01:26<00:00, 11.56it/s]\n"
     ]
    },
    {
     "name": "stdout",
     "output_type": "stream",
     "text": [
      "Second pass\n"
     ]
    },
    {
     "name": "stderr",
     "output_type": "stream",
     "text": [
      "100%|██████████| 1000/1000 [22:48<00:00,  1.37s/it]\n"
     ]
    },
    {
     "name": "stdout",
     "output_type": "stream",
     "text": [
      "First pass\n"
     ]
    },
    {
     "name": "stderr",
     "output_type": "stream",
     "text": [
      "100%|██████████| 1000/1000 [01:25<00:00, 11.63it/s]\n"
     ]
    },
    {
     "name": "stdout",
     "output_type": "stream",
     "text": [
      "Second pass\n"
     ]
    },
    {
     "name": "stderr",
     "output_type": "stream",
     "text": [
      "100%|██████████| 1000/1000 [29:27<00:00,  1.77s/it]\n"
     ]
    },
    {
     "name": "stdout",
     "output_type": "stream",
     "text": [
      "First pass\n"
     ]
    },
    {
     "name": "stderr",
     "output_type": "stream",
     "text": [
      "100%|██████████| 1000/1000 [02:43<00:00,  6.12it/s]\n"
     ]
    },
    {
     "name": "stdout",
     "output_type": "stream",
     "text": [
      "Second pass\n"
     ]
    },
    {
     "name": "stderr",
     "output_type": "stream",
     "text": [
      "100%|██████████| 1000/1000 [34:18<00:00,  2.06s/it] \n"
     ]
    },
    {
     "name": "stdout",
     "output_type": "stream",
     "text": [
      "First pass\n"
     ]
    },
    {
     "name": "stderr",
     "output_type": "stream",
     "text": [
      "100%|██████████| 1000/1000 [02:18<00:00,  7.20it/s]\n"
     ]
    },
    {
     "name": "stdout",
     "output_type": "stream",
     "text": [
      "Second pass\n"
     ]
    },
    {
     "name": "stderr",
     "output_type": "stream",
     "text": [
      "100%|██████████| 1000/1000 [33:30<00:00,  2.01s/it]\n"
     ]
    },
    {
     "name": "stdout",
     "output_type": "stream",
     "text": [
      "First pass\n"
     ]
    },
    {
     "name": "stderr",
     "output_type": "stream",
     "text": [
      "100%|██████████| 1000/1000 [02:26<00:00,  6.84it/s]\n"
     ]
    },
    {
     "name": "stdout",
     "output_type": "stream",
     "text": [
      "Second pass\n"
     ]
    },
    {
     "name": "stderr",
     "output_type": "stream",
     "text": [
      "100%|██████████| 1000/1000 [33:38<00:00,  2.02s/it]\n"
     ]
    },
    {
     "name": "stdout",
     "output_type": "stream",
     "text": [
      "First pass\n"
     ]
    },
    {
     "name": "stderr",
     "output_type": "stream",
     "text": [
      "100%|██████████| 1000/1000 [02:27<00:00,  6.78it/s]\n"
     ]
    },
    {
     "name": "stdout",
     "output_type": "stream",
     "text": [
      "Second pass\n"
     ]
    },
    {
     "name": "stderr",
     "output_type": "stream",
     "text": [
      "100%|██████████| 1000/1000 [32:12<00:00,  1.93s/it]\n"
     ]
    },
    {
     "name": "stdout",
     "output_type": "stream",
     "text": [
      "First pass\n"
     ]
    },
    {
     "name": "stderr",
     "output_type": "stream",
     "text": [
      "100%|██████████| 1000/1000 [01:24<00:00, 11.78it/s]\n"
     ]
    },
    {
     "name": "stdout",
     "output_type": "stream",
     "text": [
      "Second pass\n"
     ]
    },
    {
     "name": "stderr",
     "output_type": "stream",
     "text": [
      "100%|██████████| 1000/1000 [22:38<00:00,  1.36s/it]\n"
     ]
    },
    {
     "name": "stdout",
     "output_type": "stream",
     "text": [
      "First pass\n"
     ]
    },
    {
     "name": "stderr",
     "output_type": "stream",
     "text": [
      "100%|██████████| 1000/1000 [01:25<00:00, 11.74it/s]\n"
     ]
    },
    {
     "name": "stdout",
     "output_type": "stream",
     "text": [
      "Second pass\n"
     ]
    },
    {
     "name": "stderr",
     "output_type": "stream",
     "text": [
      "100%|██████████| 1000/1000 [22:43<00:00,  1.36s/it]\n"
     ]
    },
    {
     "name": "stdout",
     "output_type": "stream",
     "text": [
      "First pass\n"
     ]
    },
    {
     "name": "stderr",
     "output_type": "stream",
     "text": [
      "100%|██████████| 1000/1000 [01:25<00:00, 11.76it/s]\n"
     ]
    },
    {
     "name": "stdout",
     "output_type": "stream",
     "text": [
      "Second pass\n"
     ]
    },
    {
     "name": "stderr",
     "output_type": "stream",
     "text": [
      "100%|██████████| 1000/1000 [22:43<00:00,  1.36s/it]\n"
     ]
    },
    {
     "name": "stdout",
     "output_type": "stream",
     "text": [
      "First pass\n"
     ]
    },
    {
     "name": "stderr",
     "output_type": "stream",
     "text": [
      "100%|██████████| 1000/1000 [01:26<00:00, 11.54it/s]\n"
     ]
    },
    {
     "name": "stdout",
     "output_type": "stream",
     "text": [
      "Second pass\n"
     ]
    },
    {
     "name": "stderr",
     "output_type": "stream",
     "text": [
      "100%|██████████| 1000/1000 [22:35<00:00,  1.36s/it]\n"
     ]
    },
    {
     "name": "stdout",
     "output_type": "stream",
     "text": [
      "First pass\n"
     ]
    },
    {
     "name": "stderr",
     "output_type": "stream",
     "text": [
      "100%|██████████| 1000/1000 [01:23<00:00, 11.99it/s]\n"
     ]
    },
    {
     "name": "stdout",
     "output_type": "stream",
     "text": [
      "Second pass\n"
     ]
    },
    {
     "name": "stderr",
     "output_type": "stream",
     "text": [
      "100%|██████████| 1000/1000 [22:42<00:00,  1.36s/it]\n"
     ]
    },
    {
     "name": "stdout",
     "output_type": "stream",
     "text": [
      "First pass\n"
     ]
    },
    {
     "name": "stderr",
     "output_type": "stream",
     "text": [
      "100%|██████████| 1000/1000 [01:21<00:00, 12.28it/s]\n"
     ]
    },
    {
     "name": "stdout",
     "output_type": "stream",
     "text": [
      "Second pass\n"
     ]
    },
    {
     "name": "stderr",
     "output_type": "stream",
     "text": [
      "100%|██████████| 1000/1000 [19:58<00:00,  1.20s/it]\n"
     ]
    },
    {
     "name": "stdout",
     "output_type": "stream",
     "text": [
      "saved Sign.V1 in h5py file\n",
      "saved Sign.V2 in h5py file\n",
      "saved Sign.V3 in h5py file\n",
      "saved Sign.hV4 in h5py file\n",
      "saved Sign.V3ab in h5py file\n",
      "saved Sign.LO in h5py file\n",
      "saved Sign.IPS in h5py file\n",
      "saved Sign.VO in h5py file\n",
      "saved Sign.PHC in h5py file\n",
      "saved Sign.MT in h5py file\n",
      "saved Sign.MST in h5py file\n",
      "saved Sign.all in h5py file\n",
      "saved Sign.other in h5py file\n",
      "saved Bias.V1 in h5py file\n",
      "saved Bias.V2 in h5py file\n",
      "saved Bias.V3 in h5py file\n",
      "saved Bias.hV4 in h5py file\n",
      "saved Bias.V3ab in h5py file\n",
      "saved Bias.LO in h5py file\n",
      "saved Bias.IPS in h5py file\n",
      "saved Bias.VO in h5py file\n",
      "saved Bias.PHC in h5py file\n",
      "saved Bias.MT in h5py file\n",
      "saved Bias.MST in h5py file\n",
      "saved Bias.all in h5py file\n",
      "saved Bias.other in h5py file\n",
      "saved Nsa.V1 in h5py file\n",
      "saved Nsa.V2 in h5py file\n",
      "saved Nsa.V3 in h5py file\n",
      "saved Nsa.hV4 in h5py file\n",
      "saved Nsa.V3ab in h5py file\n",
      "saved Nsa.LO in h5py file\n",
      "saved Nsa.IPS in h5py file\n",
      "saved Nsa.VO in h5py file\n",
      "saved Nsa.PHC in h5py file\n",
      "saved Nsa.MT in h5py file\n",
      "saved Nsa.MST in h5py file\n",
      "saved Nsa.all in h5py file\n",
      "saved Nsa.other in h5py file\n",
      "saved Nsb.V1 in h5py file\n",
      "saved Nsb.V2 in h5py file\n",
      "saved Nsb.V3 in h5py file\n",
      "saved Nsb.hV4 in h5py file\n",
      "saved Nsb.V3ab in h5py file\n",
      "saved Nsb.LO in h5py file\n",
      "saved Nsb.IPS in h5py file\n",
      "saved Nsb.VO in h5py file\n",
      "saved Nsb.PHC in h5py file\n",
      "saved Nsb.MT in h5py file\n",
      "saved Nsb.MST in h5py file\n",
      "saved Nsb.all in h5py file\n",
      "saved Nsb.other in h5py file\n",
      "saved Nss.V1 in h5py file\n",
      "saved Nss.V2 in h5py file\n",
      "saved Nss.V3 in h5py file\n",
      "saved Nss.hV4 in h5py file\n",
      "saved Nss.V3ab in h5py file\n",
      "saved Nss.LO in h5py file\n",
      "saved Nss.IPS in h5py file\n",
      "saved Nss.VO in h5py file\n",
      "saved Nss.PHC in h5py file\n",
      "saved Nss.MT in h5py file\n",
      "saved Nss.MST in h5py file\n",
      "saved Nss.all in h5py file\n",
      "saved Nss.other in h5py file\n",
      "saved Ds.V1 in h5py file\n",
      "saved Ds.V2 in h5py file\n",
      "saved Ds.V3 in h5py file\n",
      "saved Ds.hV4 in h5py file\n",
      "saved Ds.V3ab in h5py file\n",
      "saved Ds.LO in h5py file\n",
      "saved Ds.IPS in h5py file\n",
      "saved Ds.VO in h5py file\n",
      "saved Ds.PHC in h5py file\n",
      "saved Ds.MT in h5py file\n",
      "saved Ds.MST in h5py file\n",
      "saved Ds.all in h5py file\n",
      "saved Ds.other in h5py file\n",
      "saved SNR.V1 in h5py file\n",
      "saved SNR.V2 in h5py file\n",
      "saved SNR.V3 in h5py file\n",
      "saved SNR.hV4 in h5py file\n",
      "saved SNR.V3ab in h5py file\n",
      "saved SNR.LO in h5py file\n",
      "saved SNR.IPS in h5py file\n",
      "saved SNR.VO in h5py file\n",
      "saved SNR.PHC in h5py file\n",
      "saved SNR.MT in h5py file\n",
      "saved SNR.MST in h5py file\n",
      "saved SNR.all in h5py file\n",
      "saved SNR.other in h5py file\n",
      "saved m in h5py file\n",
      "saved P in h5py file\n",
      "dict_keys(['brain_nii_shape', 'label', 'pred', 'voxel_index', 'voxel_mask', 'voxel_roi'])\n"
     ]
    },
    {
     "name": "stderr",
     "output_type": "stream",
     "text": [
      "100%|██████████| 1000/1000 [00:53<00:00, 18.61it/s]\n"
     ]
    },
    {
     "name": "stdout",
     "output_type": "stream",
     "text": [
      "(1000, 700, 300)\n"
     ]
    },
    {
     "name": "stderr",
     "output_type": "stream",
     "text": [
      "100%|██████████| 1000/1000 [01:37<00:00, 10.23it/s]\n",
      "100%|██████████| 1000/1000 [00:45<00:00, 22.08it/s]\n"
     ]
    },
    {
     "name": "stdout",
     "output_type": "stream",
     "text": [
      "(1000, 700, 300)\n"
     ]
    },
    {
     "name": "stderr",
     "output_type": "stream",
     "text": [
      "100%|██████████| 1000/1000 [01:37<00:00, 10.26it/s]\n",
      "100%|██████████| 1000/1000 [00:38<00:00, 26.14it/s]\n"
     ]
    },
    {
     "name": "stdout",
     "output_type": "stream",
     "text": [
      "(1000, 700, 300)\n"
     ]
    },
    {
     "name": "stderr",
     "output_type": "stream",
     "text": [
      "100%|██████████| 1000/1000 [01:38<00:00, 10.19it/s]\n",
      "100%|██████████| 1000/1000 [00:15<00:00, 64.65it/s]\n"
     ]
    },
    {
     "name": "stdout",
     "output_type": "stream",
     "text": [
      "(1000, 700, 300)\n"
     ]
    },
    {
     "name": "stderr",
     "output_type": "stream",
     "text": [
      "100%|██████████| 1000/1000 [01:37<00:00, 10.31it/s]\n",
      "100%|██████████| 1000/1000 [00:18<00:00, 54.54it/s]\n"
     ]
    },
    {
     "name": "stdout",
     "output_type": "stream",
     "text": [
      "(1000, 700, 300)\n"
     ]
    },
    {
     "name": "stderr",
     "output_type": "stream",
     "text": [
      "100%|██████████| 1000/1000 [01:37<00:00, 10.29it/s]\n",
      "100%|██████████| 1000/1000 [00:10<00:00, 96.54it/s]\n"
     ]
    },
    {
     "name": "stdout",
     "output_type": "stream",
     "text": [
      "(1000, 700, 300)\n"
     ]
    },
    {
     "name": "stderr",
     "output_type": "stream",
     "text": [
      "100%|██████████| 1000/1000 [01:38<00:00, 10.12it/s]\n",
      "100%|██████████| 1000/1000 [01:30<00:00, 11.05it/s]\n"
     ]
    },
    {
     "name": "stdout",
     "output_type": "stream",
     "text": [
      "(1000, 700, 300)\n"
     ]
    },
    {
     "name": "stderr",
     "output_type": "stream",
     "text": [
      "100%|██████████| 1000/1000 [01:39<00:00, 10.02it/s]\n",
      "100%|██████████| 1000/1000 [00:12<00:00, 83.06it/s]\n"
     ]
    },
    {
     "name": "stdout",
     "output_type": "stream",
     "text": [
      "(1000, 700, 300)\n"
     ]
    },
    {
     "name": "stderr",
     "output_type": "stream",
     "text": [
      "100%|██████████| 1000/1000 [01:39<00:00, 10.00it/s]\n",
      "100%|██████████| 1000/1000 [00:08<00:00, 115.99it/s]\n"
     ]
    },
    {
     "name": "stdout",
     "output_type": "stream",
     "text": [
      "(1000, 700, 300)\n"
     ]
    },
    {
     "name": "stderr",
     "output_type": "stream",
     "text": [
      "100%|██████████| 1000/1000 [01:40<00:00,  9.98it/s]\n",
      "100%|██████████| 1000/1000 [00:08<00:00, 111.55it/s]\n"
     ]
    },
    {
     "name": "stdout",
     "output_type": "stream",
     "text": [
      "(1000, 700, 300)\n"
     ]
    },
    {
     "name": "stderr",
     "output_type": "stream",
     "text": [
      "100%|██████████| 1000/1000 [01:39<00:00, 10.02it/s]\n",
      "100%|██████████| 1000/1000 [00:03<00:00, 319.56it/s]\n"
     ]
    },
    {
     "name": "stdout",
     "output_type": "stream",
     "text": [
      "(1000, 700, 300)\n"
     ]
    },
    {
     "name": "stderr",
     "output_type": "stream",
     "text": [
      "100%|██████████| 1000/1000 [01:24<00:00, 11.77it/s]\n",
      "100%|██████████| 1000/1000 [07:10<00:00,  2.32it/s]\n"
     ]
    },
    {
     "name": "stdout",
     "output_type": "stream",
     "text": [
      "(1000, 700, 300)\n"
     ]
    },
    {
     "name": "stderr",
     "output_type": "stream",
     "text": [
      "100%|██████████| 1000/1000 [01:40<00:00,  9.93it/s]\n",
      "100%|██████████| 1000/1000 [00:07<00:00, 132.90it/s]\n"
     ]
    },
    {
     "name": "stdout",
     "output_type": "stream",
     "text": [
      "(1000, 700, 300)\n"
     ]
    },
    {
     "name": "stderr",
     "output_type": "stream",
     "text": [
      "100%|██████████| 1000/1000 [01:38<00:00, 10.12it/s]\n"
     ]
    },
    {
     "name": "stdout",
     "output_type": "stream",
     "text": [
      "saved R0.V1 in h5py file\n",
      "saved R0.V2 in h5py file\n",
      "saved R0.V3 in h5py file\n",
      "saved R0.hV4 in h5py file\n",
      "saved R0.V3ab in h5py file\n",
      "saved R0.LO in h5py file\n",
      "saved R0.IPS in h5py file\n",
      "saved R0.VO in h5py file\n",
      "saved R0.PHC in h5py file\n",
      "saved R0.MT in h5py file\n",
      "saved R0.MST in h5py file\n",
      "saved R0.all in h5py file\n",
      "saved R0.other in h5py file\n",
      "saved Rs.V1 in h5py file\n",
      "saved Rs.V2 in h5py file\n",
      "saved Rs.V3 in h5py file\n",
      "saved Rs.hV4 in h5py file\n",
      "saved Rs.V3ab in h5py file\n",
      "saved Rs.LO in h5py file\n",
      "saved Rs.IPS in h5py file\n",
      "saved Rs.VO in h5py file\n",
      "saved Rs.PHC in h5py file\n",
      "saved Rs.MT in h5py file\n",
      "saved Rs.MST in h5py file\n",
      "saved Rs.all in h5py file\n",
      "saved Rs.other in h5py file\n",
      "saved Us.V1 in h5py file\n",
      "saved Us.V2 in h5py file\n",
      "saved Us.V3 in h5py file\n",
      "saved Us.hV4 in h5py file\n",
      "saved Us.V3ab in h5py file\n",
      "saved Us.LO in h5py file\n",
      "saved Us.IPS in h5py file\n",
      "saved Us.VO in h5py file\n",
      "saved Us.PHC in h5py file\n",
      "saved Us.MT in h5py file\n",
      "saved Us.MST in h5py file\n",
      "saved Us.all in h5py file\n",
      "saved Us.other in h5py file\n",
      "saved rproj.V1 in h5py file\n",
      "saved rproj.V2 in h5py file\n",
      "saved rproj.V3 in h5py file\n",
      "saved rproj.hV4 in h5py file\n",
      "saved rproj.V3ab in h5py file\n",
      "saved rproj.LO in h5py file\n",
      "saved rproj.IPS in h5py file\n",
      "saved rproj.VO in h5py file\n",
      "saved rproj.PHC in h5py file\n",
      "saved rproj.MT in h5py file\n",
      "saved rproj.MST in h5py file\n",
      "saved rproj.all in h5py file\n",
      "saved rproj.other in h5py file\n",
      "saved P in h5py file\n",
      "saved K in h5py file\n",
      "saved V in h5py file\n",
      "First pass\n"
     ]
    },
    {
     "name": "stderr",
     "output_type": "stream",
     "text": [
      "100%|██████████| 1000/1000 [01:16<00:00, 13.06it/s]\n"
     ]
    },
    {
     "name": "stdout",
     "output_type": "stream",
     "text": [
      "Second pass\n"
     ]
    },
    {
     "name": "stderr",
     "output_type": "stream",
     "text": [
      "100%|██████████| 1000/1000 [20:28<00:00,  1.23s/it]\n"
     ]
    },
    {
     "name": "stdout",
     "output_type": "stream",
     "text": [
      "First pass\n"
     ]
    },
    {
     "name": "stderr",
     "output_type": "stream",
     "text": [
      "100%|██████████| 1000/1000 [01:18<00:00, 12.77it/s]\n"
     ]
    },
    {
     "name": "stdout",
     "output_type": "stream",
     "text": [
      "Second pass\n"
     ]
    },
    {
     "name": "stderr",
     "output_type": "stream",
     "text": [
      "100%|██████████| 1000/1000 [21:35<00:00,  1.30s/it]\n"
     ]
    },
    {
     "name": "stdout",
     "output_type": "stream",
     "text": [
      "First pass\n"
     ]
    },
    {
     "name": "stderr",
     "output_type": "stream",
     "text": [
      "100%|██████████| 1000/1000 [01:15<00:00, 13.22it/s]\n"
     ]
    },
    {
     "name": "stdout",
     "output_type": "stream",
     "text": [
      "Second pass\n"
     ]
    },
    {
     "name": "stderr",
     "output_type": "stream",
     "text": [
      "100%|██████████| 1000/1000 [20:29<00:00,  1.23s/it]\n"
     ]
    },
    {
     "name": "stdout",
     "output_type": "stream",
     "text": [
      "First pass\n"
     ]
    },
    {
     "name": "stderr",
     "output_type": "stream",
     "text": [
      "100%|██████████| 1000/1000 [01:15<00:00, 13.25it/s]\n"
     ]
    },
    {
     "name": "stdout",
     "output_type": "stream",
     "text": [
      "Second pass\n"
     ]
    },
    {
     "name": "stderr",
     "output_type": "stream",
     "text": [
      "100%|██████████| 1000/1000 [21:17<00:00,  1.28s/it]\n"
     ]
    },
    {
     "name": "stdout",
     "output_type": "stream",
     "text": [
      "First pass\n"
     ]
    },
    {
     "name": "stderr",
     "output_type": "stream",
     "text": [
      "100%|██████████| 1000/1000 [01:16<00:00, 13.10it/s]\n"
     ]
    },
    {
     "name": "stdout",
     "output_type": "stream",
     "text": [
      "Second pass\n"
     ]
    },
    {
     "name": "stderr",
     "output_type": "stream",
     "text": [
      "100%|██████████| 1000/1000 [22:36<00:00,  1.36s/it]\n"
     ]
    },
    {
     "name": "stdout",
     "output_type": "stream",
     "text": [
      "First pass\n"
     ]
    },
    {
     "name": "stderr",
     "output_type": "stream",
     "text": [
      "100%|██████████| 1000/1000 [01:16<00:00, 13.00it/s]\n"
     ]
    },
    {
     "name": "stdout",
     "output_type": "stream",
     "text": [
      "Second pass\n"
     ]
    },
    {
     "name": "stderr",
     "output_type": "stream",
     "text": [
      "100%|██████████| 1000/1000 [21:38<00:00,  1.30s/it]\n"
     ]
    },
    {
     "name": "stdout",
     "output_type": "stream",
     "text": [
      "First pass\n"
     ]
    },
    {
     "name": "stderr",
     "output_type": "stream",
     "text": [
      "100%|██████████| 1000/1000 [01:17<00:00, 12.96it/s]\n"
     ]
    },
    {
     "name": "stdout",
     "output_type": "stream",
     "text": [
      "Second pass\n"
     ]
    },
    {
     "name": "stderr",
     "output_type": "stream",
     "text": [
      "100%|██████████| 1000/1000 [21:48<00:00,  1.31s/it]\n"
     ]
    },
    {
     "name": "stdout",
     "output_type": "stream",
     "text": [
      "First pass\n"
     ]
    },
    {
     "name": "stderr",
     "output_type": "stream",
     "text": [
      "100%|██████████| 1000/1000 [01:16<00:00, 13.06it/s]\n"
     ]
    },
    {
     "name": "stdout",
     "output_type": "stream",
     "text": [
      "Second pass\n"
     ]
    },
    {
     "name": "stderr",
     "output_type": "stream",
     "text": [
      "100%|██████████| 1000/1000 [23:00<00:00,  1.38s/it]\n"
     ]
    },
    {
     "name": "stdout",
     "output_type": "stream",
     "text": [
      "First pass\n"
     ]
    },
    {
     "name": "stderr",
     "output_type": "stream",
     "text": [
      "100%|██████████| 1000/1000 [01:14<00:00, 13.46it/s]\n"
     ]
    },
    {
     "name": "stdout",
     "output_type": "stream",
     "text": [
      "Second pass\n"
     ]
    },
    {
     "name": "stderr",
     "output_type": "stream",
     "text": [
      "100%|██████████| 1000/1000 [21:28<00:00,  1.29s/it]\n"
     ]
    },
    {
     "name": "stdout",
     "output_type": "stream",
     "text": [
      "First pass\n"
     ]
    },
    {
     "name": "stderr",
     "output_type": "stream",
     "text": [
      "100%|██████████| 1000/1000 [01:16<00:00, 13.04it/s]\n"
     ]
    },
    {
     "name": "stdout",
     "output_type": "stream",
     "text": [
      "Second pass\n"
     ]
    },
    {
     "name": "stderr",
     "output_type": "stream",
     "text": [
      "100%|██████████| 1000/1000 [21:52<00:00,  1.31s/it]\n"
     ]
    },
    {
     "name": "stdout",
     "output_type": "stream",
     "text": [
      "First pass\n"
     ]
    },
    {
     "name": "stderr",
     "output_type": "stream",
     "text": [
      "100%|██████████| 1000/1000 [01:17<00:00, 12.90it/s]\n"
     ]
    },
    {
     "name": "stdout",
     "output_type": "stream",
     "text": [
      "Second pass\n"
     ]
    },
    {
     "name": "stderr",
     "output_type": "stream",
     "text": [
      "100%|██████████| 1000/1000 [21:26<00:00,  1.29s/it]\n"
     ]
    },
    {
     "name": "stdout",
     "output_type": "stream",
     "text": [
      "First pass\n"
     ]
    },
    {
     "name": "stderr",
     "output_type": "stream",
     "text": [
      "100%|██████████| 1000/1000 [01:16<00:00, 13.15it/s]\n"
     ]
    },
    {
     "name": "stdout",
     "output_type": "stream",
     "text": [
      "Second pass\n"
     ]
    },
    {
     "name": "stderr",
     "output_type": "stream",
     "text": [
      "100%|██████████| 1000/1000 [22:18<00:00,  1.34s/it]\n"
     ]
    },
    {
     "name": "stdout",
     "output_type": "stream",
     "text": [
      "First pass\n"
     ]
    },
    {
     "name": "stderr",
     "output_type": "stream",
     "text": [
      "100%|██████████| 1000/1000 [01:16<00:00, 13.11it/s]\n"
     ]
    },
    {
     "name": "stdout",
     "output_type": "stream",
     "text": [
      "Second pass\n"
     ]
    },
    {
     "name": "stderr",
     "output_type": "stream",
     "text": [
      "100%|██████████| 1000/1000 [22:15<00:00,  1.34s/it]\n"
     ]
    },
    {
     "name": "stdout",
     "output_type": "stream",
     "text": [
      "saved Sign.V1 in h5py file\n",
      "saved Sign.V2 in h5py file\n",
      "saved Sign.V3 in h5py file\n",
      "saved Sign.hV4 in h5py file\n",
      "saved Sign.V3ab in h5py file\n",
      "saved Sign.LO in h5py file\n",
      "saved Sign.IPS in h5py file\n",
      "saved Sign.VO in h5py file\n",
      "saved Sign.PHC in h5py file\n",
      "saved Sign.MT in h5py file\n",
      "saved Sign.MST in h5py file\n",
      "saved Sign.all in h5py file\n",
      "saved Sign.other in h5py file\n",
      "saved Bias.V1 in h5py file\n",
      "saved Bias.V2 in h5py file\n",
      "saved Bias.V3 in h5py file\n",
      "saved Bias.hV4 in h5py file\n",
      "saved Bias.V3ab in h5py file\n",
      "saved Bias.LO in h5py file\n",
      "saved Bias.IPS in h5py file\n",
      "saved Bias.VO in h5py file\n",
      "saved Bias.PHC in h5py file\n",
      "saved Bias.MT in h5py file\n",
      "saved Bias.MST in h5py file\n",
      "saved Bias.all in h5py file\n",
      "saved Bias.other in h5py file\n",
      "saved Nsa.V1 in h5py file\n",
      "saved Nsa.V2 in h5py file\n",
      "saved Nsa.V3 in h5py file\n",
      "saved Nsa.hV4 in h5py file\n",
      "saved Nsa.V3ab in h5py file\n",
      "saved Nsa.LO in h5py file\n",
      "saved Nsa.IPS in h5py file\n",
      "saved Nsa.VO in h5py file\n",
      "saved Nsa.PHC in h5py file\n",
      "saved Nsa.MT in h5py file\n",
      "saved Nsa.MST in h5py file\n",
      "saved Nsa.all in h5py file\n",
      "saved Nsa.other in h5py file\n",
      "saved Nsb.V1 in h5py file\n",
      "saved Nsb.V2 in h5py file\n",
      "saved Nsb.V3 in h5py file\n",
      "saved Nsb.hV4 in h5py file\n",
      "saved Nsb.V3ab in h5py file\n",
      "saved Nsb.LO in h5py file\n",
      "saved Nsb.IPS in h5py file\n",
      "saved Nsb.VO in h5py file\n",
      "saved Nsb.PHC in h5py file\n",
      "saved Nsb.MT in h5py file\n",
      "saved Nsb.MST in h5py file\n",
      "saved Nsb.all in h5py file\n",
      "saved Nsb.other in h5py file\n",
      "saved Nss.V1 in h5py file\n",
      "saved Nss.V2 in h5py file\n",
      "saved Nss.V3 in h5py file\n",
      "saved Nss.hV4 in h5py file\n",
      "saved Nss.V3ab in h5py file\n",
      "saved Nss.LO in h5py file\n",
      "saved Nss.IPS in h5py file\n",
      "saved Nss.VO in h5py file\n",
      "saved Nss.PHC in h5py file\n",
      "saved Nss.MT in h5py file\n",
      "saved Nss.MST in h5py file\n",
      "saved Nss.all in h5py file\n",
      "saved Nss.other in h5py file\n",
      "saved Ds.V1 in h5py file\n",
      "saved Ds.V2 in h5py file\n",
      "saved Ds.V3 in h5py file\n",
      "saved Ds.hV4 in h5py file\n",
      "saved Ds.V3ab in h5py file\n",
      "saved Ds.LO in h5py file\n",
      "saved Ds.IPS in h5py file\n",
      "saved Ds.VO in h5py file\n",
      "saved Ds.PHC in h5py file\n",
      "saved Ds.MT in h5py file\n",
      "saved Ds.MST in h5py file\n",
      "saved Ds.all in h5py file\n",
      "saved Ds.other in h5py file\n",
      "saved SNR.V1 in h5py file\n",
      "saved SNR.V2 in h5py file\n",
      "saved SNR.V3 in h5py file\n",
      "saved SNR.hV4 in h5py file\n",
      "saved SNR.V3ab in h5py file\n",
      "saved SNR.LO in h5py file\n",
      "saved SNR.IPS in h5py file\n",
      "saved SNR.VO in h5py file\n",
      "saved SNR.PHC in h5py file\n",
      "saved SNR.MT in h5py file\n",
      "saved SNR.MST in h5py file\n",
      "saved SNR.all in h5py file\n",
      "saved SNR.other in h5py file\n",
      "saved m in h5py file\n",
      "saved P in h5py file\n",
      "dict_keys(['brain_nii_shape', 'label', 'pred', 'voxel_index', 'voxel_mask', 'voxel_roi'])\n"
     ]
    },
    {
     "name": "stderr",
     "output_type": "stream",
     "text": [
      "100%|██████████| 1000/1000 [01:02<00:00, 15.97it/s]\n"
     ]
    },
    {
     "name": "stdout",
     "output_type": "stream",
     "text": [
      "(1000, 700, 300)\n"
     ]
    },
    {
     "name": "stderr",
     "output_type": "stream",
     "text": [
      "100%|██████████| 1000/1000 [01:40<00:00,  9.92it/s]\n",
      "100%|██████████| 1000/1000 [00:52<00:00, 19.06it/s]\n"
     ]
    },
    {
     "name": "stdout",
     "output_type": "stream",
     "text": [
      "(1000, 700, 300)\n"
     ]
    },
    {
     "name": "stderr",
     "output_type": "stream",
     "text": [
      "100%|██████████| 1000/1000 [01:39<00:00, 10.07it/s]\n",
      "100%|██████████| 1000/1000 [00:46<00:00, 21.55it/s]\n"
     ]
    },
    {
     "name": "stdout",
     "output_type": "stream",
     "text": [
      "(1000, 700, 300)\n"
     ]
    },
    {
     "name": "stderr",
     "output_type": "stream",
     "text": [
      "100%|██████████| 1000/1000 [01:38<00:00, 10.13it/s]\n",
      "100%|██████████| 1000/1000 [00:19<00:00, 51.32it/s]\n"
     ]
    },
    {
     "name": "stdout",
     "output_type": "stream",
     "text": [
      "(1000, 700, 300)\n"
     ]
    },
    {
     "name": "stderr",
     "output_type": "stream",
     "text": [
      "100%|██████████| 1000/1000 [01:37<00:00, 10.25it/s]\n",
      "100%|██████████| 1000/1000 [00:19<00:00, 52.62it/s]\n"
     ]
    },
    {
     "name": "stdout",
     "output_type": "stream",
     "text": [
      "(1000, 700, 300)\n"
     ]
    },
    {
     "name": "stderr",
     "output_type": "stream",
     "text": [
      "100%|██████████| 1000/1000 [01:37<00:00, 10.23it/s]\n",
      "100%|██████████| 1000/1000 [00:08<00:00, 113.60it/s]\n"
     ]
    },
    {
     "name": "stdout",
     "output_type": "stream",
     "text": [
      "(1000, 700, 300)\n"
     ]
    },
    {
     "name": "stderr",
     "output_type": "stream",
     "text": [
      "100%|██████████| 1000/1000 [01:37<00:00, 10.26it/s]\n",
      "100%|██████████| 1000/1000 [01:02<00:00, 15.93it/s]\n"
     ]
    },
    {
     "name": "stdout",
     "output_type": "stream",
     "text": [
      "(1000, 700, 300)\n"
     ]
    },
    {
     "name": "stderr",
     "output_type": "stream",
     "text": [
      "100%|██████████| 1000/1000 [01:38<00:00, 10.11it/s]\n",
      "100%|██████████| 1000/1000 [00:14<00:00, 67.17it/s]\n"
     ]
    },
    {
     "name": "stdout",
     "output_type": "stream",
     "text": [
      "(1000, 700, 300)\n"
     ]
    },
    {
     "name": "stderr",
     "output_type": "stream",
     "text": [
      "100%|██████████| 1000/1000 [01:38<00:00, 10.12it/s]\n",
      "100%|██████████| 1000/1000 [00:10<00:00, 95.33it/s]\n"
     ]
    },
    {
     "name": "stdout",
     "output_type": "stream",
     "text": [
      "(1000, 700, 300)\n"
     ]
    },
    {
     "name": "stderr",
     "output_type": "stream",
     "text": [
      "100%|██████████| 1000/1000 [01:38<00:00, 10.14it/s]\n",
      "100%|██████████| 1000/1000 [00:07<00:00, 136.69it/s]\n"
     ]
    },
    {
     "name": "stdout",
     "output_type": "stream",
     "text": [
      "(1000, 700, 300)\n"
     ]
    },
    {
     "name": "stderr",
     "output_type": "stream",
     "text": [
      "100%|██████████| 1000/1000 [01:36<00:00, 10.40it/s]\n",
      "100%|██████████| 1000/1000 [00:03<00:00, 318.60it/s]\n"
     ]
    },
    {
     "name": "stdout",
     "output_type": "stream",
     "text": [
      "(1000, 700, 300)\n"
     ]
    },
    {
     "name": "stderr",
     "output_type": "stream",
     "text": [
      "100%|██████████| 1000/1000 [01:23<00:00, 11.97it/s]\n",
      "100%|██████████| 1000/1000 [07:16<00:00,  2.29it/s]\n"
     ]
    },
    {
     "name": "stdout",
     "output_type": "stream",
     "text": [
      "(1000, 700, 300)\n"
     ]
    },
    {
     "name": "stderr",
     "output_type": "stream",
     "text": [
      "100%|██████████| 1000/1000 [01:38<00:00, 10.12it/s]\n",
      "100%|██████████| 1000/1000 [00:06<00:00, 150.28it/s]\n"
     ]
    },
    {
     "name": "stdout",
     "output_type": "stream",
     "text": [
      "(1000, 700, 300)\n"
     ]
    },
    {
     "name": "stderr",
     "output_type": "stream",
     "text": [
      "100%|██████████| 1000/1000 [01:33<00:00, 10.74it/s]\n"
     ]
    },
    {
     "name": "stdout",
     "output_type": "stream",
     "text": [
      "saved R0.V1 in h5py file\n",
      "saved R0.V2 in h5py file\n",
      "saved R0.V3 in h5py file\n",
      "saved R0.hV4 in h5py file\n",
      "saved R0.V3ab in h5py file\n",
      "saved R0.LO in h5py file\n",
      "saved R0.IPS in h5py file\n",
      "saved R0.VO in h5py file\n",
      "saved R0.PHC in h5py file\n",
      "saved R0.MT in h5py file\n",
      "saved R0.MST in h5py file\n",
      "saved R0.all in h5py file\n",
      "saved R0.other in h5py file\n",
      "saved Rs.V1 in h5py file\n",
      "saved Rs.V2 in h5py file\n",
      "saved Rs.V3 in h5py file\n",
      "saved Rs.hV4 in h5py file\n",
      "saved Rs.V3ab in h5py file\n",
      "saved Rs.LO in h5py file\n",
      "saved Rs.IPS in h5py file\n",
      "saved Rs.VO in h5py file\n",
      "saved Rs.PHC in h5py file\n",
      "saved Rs.MT in h5py file\n",
      "saved Rs.MST in h5py file\n",
      "saved Rs.all in h5py file\n",
      "saved Rs.other in h5py file\n",
      "saved Us.V1 in h5py file\n",
      "saved Us.V2 in h5py file\n",
      "saved Us.V3 in h5py file\n",
      "saved Us.hV4 in h5py file\n",
      "saved Us.V3ab in h5py file\n",
      "saved Us.LO in h5py file\n",
      "saved Us.IPS in h5py file\n",
      "saved Us.VO in h5py file\n",
      "saved Us.PHC in h5py file\n",
      "saved Us.MT in h5py file\n",
      "saved Us.MST in h5py file\n",
      "saved Us.all in h5py file\n",
      "saved Us.other in h5py file\n",
      "saved rproj.V1 in h5py file\n",
      "saved rproj.V2 in h5py file\n",
      "saved rproj.V3 in h5py file\n",
      "saved rproj.hV4 in h5py file\n",
      "saved rproj.V3ab in h5py file\n",
      "saved rproj.LO in h5py file\n",
      "saved rproj.IPS in h5py file\n",
      "saved rproj.VO in h5py file\n",
      "saved rproj.PHC in h5py file\n",
      "saved rproj.MT in h5py file\n",
      "saved rproj.MST in h5py file\n",
      "saved rproj.all in h5py file\n",
      "saved rproj.other in h5py file\n",
      "saved P in h5py file\n",
      "saved K in h5py file\n",
      "saved V in h5py file\n",
      "First pass\n"
     ]
    },
    {
     "name": "stderr",
     "output_type": "stream",
     "text": [
      "100%|██████████| 1000/1000 [01:18<00:00, 12.69it/s]\n"
     ]
    },
    {
     "name": "stdout",
     "output_type": "stream",
     "text": [
      "Second pass\n"
     ]
    },
    {
     "name": "stderr",
     "output_type": "stream",
     "text": [
      "100%|██████████| 1000/1000 [19:09<00:00,  1.15s/it]\n"
     ]
    },
    {
     "name": "stdout",
     "output_type": "stream",
     "text": [
      "First pass\n"
     ]
    },
    {
     "name": "stderr",
     "output_type": "stream",
     "text": [
      "100%|██████████| 1000/1000 [01:14<00:00, 13.37it/s]\n"
     ]
    },
    {
     "name": "stdout",
     "output_type": "stream",
     "text": [
      "Second pass\n"
     ]
    },
    {
     "name": "stderr",
     "output_type": "stream",
     "text": [
      "100%|██████████| 1000/1000 [19:43<00:00,  1.18s/it]\n"
     ]
    },
    {
     "name": "stdout",
     "output_type": "stream",
     "text": [
      "First pass\n"
     ]
    },
    {
     "name": "stderr",
     "output_type": "stream",
     "text": [
      "100%|██████████| 1000/1000 [01:19<00:00, 12.66it/s]\n"
     ]
    },
    {
     "name": "stdout",
     "output_type": "stream",
     "text": [
      "Second pass\n"
     ]
    },
    {
     "name": "stderr",
     "output_type": "stream",
     "text": [
      "100%|██████████| 1000/1000 [21:31<00:00,  1.29s/it]\n"
     ]
    },
    {
     "name": "stdout",
     "output_type": "stream",
     "text": [
      "First pass\n"
     ]
    },
    {
     "name": "stderr",
     "output_type": "stream",
     "text": [
      "100%|██████████| 1000/1000 [01:15<00:00, 13.25it/s]\n"
     ]
    },
    {
     "name": "stdout",
     "output_type": "stream",
     "text": [
      "Second pass\n"
     ]
    },
    {
     "name": "stderr",
     "output_type": "stream",
     "text": [
      "100%|██████████| 1000/1000 [19:33<00:00,  1.17s/it]\n"
     ]
    },
    {
     "name": "stdout",
     "output_type": "stream",
     "text": [
      "First pass\n"
     ]
    },
    {
     "name": "stderr",
     "output_type": "stream",
     "text": [
      "100%|██████████| 1000/1000 [01:16<00:00, 13.11it/s]\n"
     ]
    },
    {
     "name": "stdout",
     "output_type": "stream",
     "text": [
      "Second pass\n"
     ]
    },
    {
     "name": "stderr",
     "output_type": "stream",
     "text": [
      "100%|██████████| 1000/1000 [20:56<00:00,  1.26s/it]\n"
     ]
    },
    {
     "name": "stdout",
     "output_type": "stream",
     "text": [
      "First pass\n"
     ]
    },
    {
     "name": "stderr",
     "output_type": "stream",
     "text": [
      "100%|██████████| 1000/1000 [01:14<00:00, 13.38it/s]\n"
     ]
    },
    {
     "name": "stdout",
     "output_type": "stream",
     "text": [
      "Second pass\n"
     ]
    },
    {
     "name": "stderr",
     "output_type": "stream",
     "text": [
      "100%|██████████| 1000/1000 [20:33<00:00,  1.23s/it]\n"
     ]
    },
    {
     "name": "stdout",
     "output_type": "stream",
     "text": [
      "First pass\n"
     ]
    },
    {
     "name": "stderr",
     "output_type": "stream",
     "text": [
      "100%|██████████| 1000/1000 [01:16<00:00, 13.08it/s]\n"
     ]
    },
    {
     "name": "stdout",
     "output_type": "stream",
     "text": [
      "Second pass\n"
     ]
    },
    {
     "name": "stderr",
     "output_type": "stream",
     "text": [
      "100%|██████████| 1000/1000 [20:54<00:00,  1.25s/it]\n"
     ]
    },
    {
     "name": "stdout",
     "output_type": "stream",
     "text": [
      "First pass\n"
     ]
    },
    {
     "name": "stderr",
     "output_type": "stream",
     "text": [
      "100%|██████████| 1000/1000 [01:17<00:00, 12.94it/s]\n"
     ]
    },
    {
     "name": "stdout",
     "output_type": "stream",
     "text": [
      "Second pass\n"
     ]
    },
    {
     "name": "stderr",
     "output_type": "stream",
     "text": [
      "100%|██████████| 1000/1000 [22:16<00:00,  1.34s/it]\n"
     ]
    },
    {
     "name": "stdout",
     "output_type": "stream",
     "text": [
      "First pass\n"
     ]
    },
    {
     "name": "stderr",
     "output_type": "stream",
     "text": [
      "100%|██████████| 1000/1000 [01:16<00:00, 13.13it/s]\n"
     ]
    },
    {
     "name": "stdout",
     "output_type": "stream",
     "text": [
      "Second pass\n"
     ]
    },
    {
     "name": "stderr",
     "output_type": "stream",
     "text": [
      "100%|██████████| 1000/1000 [22:23<00:00,  1.34s/it]\n"
     ]
    },
    {
     "name": "stdout",
     "output_type": "stream",
     "text": [
      "First pass\n"
     ]
    },
    {
     "name": "stderr",
     "output_type": "stream",
     "text": [
      "100%|██████████| 1000/1000 [01:14<00:00, 13.50it/s]\n"
     ]
    },
    {
     "name": "stdout",
     "output_type": "stream",
     "text": [
      "Second pass\n"
     ]
    },
    {
     "name": "stderr",
     "output_type": "stream",
     "text": [
      "100%|██████████| 1000/1000 [21:15<00:00,  1.28s/it]\n"
     ]
    },
    {
     "name": "stdout",
     "output_type": "stream",
     "text": [
      "First pass\n"
     ]
    },
    {
     "name": "stderr",
     "output_type": "stream",
     "text": [
      "100%|██████████| 1000/1000 [01:15<00:00, 13.23it/s]\n"
     ]
    },
    {
     "name": "stdout",
     "output_type": "stream",
     "text": [
      "Second pass\n"
     ]
    },
    {
     "name": "stderr",
     "output_type": "stream",
     "text": [
      "100%|██████████| 1000/1000 [22:39<00:00,  1.36s/it]\n"
     ]
    },
    {
     "name": "stdout",
     "output_type": "stream",
     "text": [
      "First pass\n"
     ]
    },
    {
     "name": "stderr",
     "output_type": "stream",
     "text": [
      "100%|██████████| 1000/1000 [01:36<00:00, 10.34it/s]\n"
     ]
    },
    {
     "name": "stdout",
     "output_type": "stream",
     "text": [
      "Second pass\n"
     ]
    },
    {
     "name": "stderr",
     "output_type": "stream",
     "text": [
      "100%|██████████| 1000/1000 [21:45<00:00,  1.31s/it]\n"
     ]
    },
    {
     "name": "stdout",
     "output_type": "stream",
     "text": [
      "First pass\n"
     ]
    },
    {
     "name": "stderr",
     "output_type": "stream",
     "text": [
      "100%|██████████| 1000/1000 [01:17<00:00, 12.88it/s]\n"
     ]
    },
    {
     "name": "stdout",
     "output_type": "stream",
     "text": [
      "Second pass\n"
     ]
    },
    {
     "name": "stderr",
     "output_type": "stream",
     "text": [
      "100%|██████████| 1000/1000 [21:33<00:00,  1.29s/it]\n"
     ]
    },
    {
     "name": "stdout",
     "output_type": "stream",
     "text": [
      "saved Sign.V1 in h5py file\n",
      "saved Sign.V2 in h5py file\n",
      "saved Sign.V3 in h5py file\n",
      "saved Sign.hV4 in h5py file\n",
      "saved Sign.V3ab in h5py file\n",
      "saved Sign.LO in h5py file\n",
      "saved Sign.IPS in h5py file\n",
      "saved Sign.VO in h5py file\n",
      "saved Sign.PHC in h5py file\n",
      "saved Sign.MT in h5py file\n",
      "saved Sign.MST in h5py file\n",
      "saved Sign.all in h5py file\n",
      "saved Sign.other in h5py file\n",
      "saved Bias.V1 in h5py file\n",
      "saved Bias.V2 in h5py file\n",
      "saved Bias.V3 in h5py file\n",
      "saved Bias.hV4 in h5py file\n",
      "saved Bias.V3ab in h5py file\n",
      "saved Bias.LO in h5py file\n",
      "saved Bias.IPS in h5py file\n",
      "saved Bias.VO in h5py file\n",
      "saved Bias.PHC in h5py file\n",
      "saved Bias.MT in h5py file\n",
      "saved Bias.MST in h5py file\n",
      "saved Bias.all in h5py file\n",
      "saved Bias.other in h5py file\n",
      "saved Nsa.V1 in h5py file\n",
      "saved Nsa.V2 in h5py file\n",
      "saved Nsa.V3 in h5py file\n",
      "saved Nsa.hV4 in h5py file\n",
      "saved Nsa.V3ab in h5py file\n",
      "saved Nsa.LO in h5py file\n",
      "saved Nsa.IPS in h5py file\n",
      "saved Nsa.VO in h5py file\n",
      "saved Nsa.PHC in h5py file\n",
      "saved Nsa.MT in h5py file\n",
      "saved Nsa.MST in h5py file\n",
      "saved Nsa.all in h5py file\n",
      "saved Nsa.other in h5py file\n",
      "saved Nsb.V1 in h5py file\n",
      "saved Nsb.V2 in h5py file\n",
      "saved Nsb.V3 in h5py file\n",
      "saved Nsb.hV4 in h5py file\n",
      "saved Nsb.V3ab in h5py file\n",
      "saved Nsb.LO in h5py file\n",
      "saved Nsb.IPS in h5py file\n",
      "saved Nsb.VO in h5py file\n",
      "saved Nsb.PHC in h5py file\n",
      "saved Nsb.MT in h5py file\n",
      "saved Nsb.MST in h5py file\n",
      "saved Nsb.all in h5py file\n",
      "saved Nsb.other in h5py file\n",
      "saved Nss.V1 in h5py file\n",
      "saved Nss.V2 in h5py file\n",
      "saved Nss.V3 in h5py file\n",
      "saved Nss.hV4 in h5py file\n",
      "saved Nss.V3ab in h5py file\n",
      "saved Nss.LO in h5py file\n",
      "saved Nss.IPS in h5py file\n",
      "saved Nss.VO in h5py file\n",
      "saved Nss.PHC in h5py file\n",
      "saved Nss.MT in h5py file\n",
      "saved Nss.MST in h5py file\n",
      "saved Nss.all in h5py file\n",
      "saved Nss.other in h5py file\n",
      "saved Ds.V1 in h5py file\n",
      "saved Ds.V2 in h5py file\n",
      "saved Ds.V3 in h5py file\n",
      "saved Ds.hV4 in h5py file\n",
      "saved Ds.V3ab in h5py file\n",
      "saved Ds.LO in h5py file\n",
      "saved Ds.IPS in h5py file\n",
      "saved Ds.VO in h5py file\n",
      "saved Ds.PHC in h5py file\n",
      "saved Ds.MT in h5py file\n",
      "saved Ds.MST in h5py file\n",
      "saved Ds.all in h5py file\n",
      "saved Ds.other in h5py file\n",
      "saved SNR.V1 in h5py file\n",
      "saved SNR.V2 in h5py file\n",
      "saved SNR.V3 in h5py file\n",
      "saved SNR.hV4 in h5py file\n",
      "saved SNR.V3ab in h5py file\n",
      "saved SNR.LO in h5py file\n",
      "saved SNR.IPS in h5py file\n",
      "saved SNR.VO in h5py file\n",
      "saved SNR.PHC in h5py file\n",
      "saved SNR.MT in h5py file\n",
      "saved SNR.MST in h5py file\n",
      "saved SNR.all in h5py file\n",
      "saved SNR.other in h5py file\n",
      "saved m in h5py file\n",
      "saved P in h5py file\n",
      "dict_keys(['brain_nii_shape', 'label', 'pred', 'voxel_index', 'voxel_mask', 'voxel_roi'])\n"
     ]
    },
    {
     "name": "stderr",
     "output_type": "stream",
     "text": [
      "100%|██████████| 1000/1000 [01:09<00:00, 14.36it/s]\n"
     ]
    },
    {
     "name": "stdout",
     "output_type": "stream",
     "text": [
      "(1000, 700, 300)\n"
     ]
    },
    {
     "name": "stderr",
     "output_type": "stream",
     "text": [
      "100%|██████████| 1000/1000 [01:40<00:00,  9.92it/s]\n",
      "100%|██████████| 1000/1000 [01:05<00:00, 15.16it/s]\n"
     ]
    },
    {
     "name": "stdout",
     "output_type": "stream",
     "text": [
      "(1000, 700, 300)\n"
     ]
    },
    {
     "name": "stderr",
     "output_type": "stream",
     "text": [
      "100%|██████████| 1000/1000 [01:43<00:00,  9.69it/s]\n",
      "100%|██████████| 1000/1000 [01:16<00:00, 13.16it/s]\n"
     ]
    },
    {
     "name": "stdout",
     "output_type": "stream",
     "text": [
      "(1000, 700, 300)\n"
     ]
    },
    {
     "name": "stderr",
     "output_type": "stream",
     "text": [
      "100%|██████████| 1000/1000 [01:40<00:00,  9.95it/s]\n",
      "100%|██████████| 1000/1000 [00:25<00:00, 38.75it/s]\n"
     ]
    },
    {
     "name": "stdout",
     "output_type": "stream",
     "text": [
      "(1000, 700, 300)\n"
     ]
    },
    {
     "name": "stderr",
     "output_type": "stream",
     "text": [
      "100%|██████████| 1000/1000 [01:43<00:00,  9.67it/s]\n",
      "100%|██████████| 1000/1000 [00:26<00:00, 37.43it/s]\n"
     ]
    },
    {
     "name": "stdout",
     "output_type": "stream",
     "text": [
      "(1000, 700, 300)\n"
     ]
    },
    {
     "name": "stderr",
     "output_type": "stream",
     "text": [
      "100%|██████████| 1000/1000 [01:44<00:00,  9.53it/s]\n",
      "100%|██████████| 1000/1000 [00:20<00:00, 49.81it/s]\n"
     ]
    },
    {
     "name": "stdout",
     "output_type": "stream",
     "text": [
      "(1000, 700, 300)\n"
     ]
    },
    {
     "name": "stderr",
     "output_type": "stream",
     "text": [
      "100%|██████████| 1000/1000 [01:45<00:00,  9.52it/s]\n",
      "100%|██████████| 1000/1000 [01:23<00:00, 11.91it/s]\n"
     ]
    },
    {
     "name": "stdout",
     "output_type": "stream",
     "text": [
      "(1000, 700, 300)\n"
     ]
    },
    {
     "name": "stderr",
     "output_type": "stream",
     "text": [
      "100%|██████████| 1000/1000 [01:44<00:00,  9.59it/s]\n",
      "100%|██████████| 1000/1000 [00:19<00:00, 50.85it/s]\n"
     ]
    },
    {
     "name": "stdout",
     "output_type": "stream",
     "text": [
      "(1000, 700, 300)\n"
     ]
    },
    {
     "name": "stderr",
     "output_type": "stream",
     "text": [
      "100%|██████████| 1000/1000 [01:45<00:00,  9.52it/s]\n",
      "100%|██████████| 1000/1000 [00:12<00:00, 80.55it/s]\n"
     ]
    },
    {
     "name": "stdout",
     "output_type": "stream",
     "text": [
      "(1000, 700, 300)\n"
     ]
    },
    {
     "name": "stderr",
     "output_type": "stream",
     "text": [
      "100%|██████████| 1000/1000 [01:45<00:00,  9.44it/s]\n",
      "100%|██████████| 1000/1000 [00:08<00:00, 113.85it/s]\n"
     ]
    },
    {
     "name": "stdout",
     "output_type": "stream",
     "text": [
      "(1000, 700, 300)\n"
     ]
    },
    {
     "name": "stderr",
     "output_type": "stream",
     "text": [
      "100%|██████████| 1000/1000 [01:41<00:00,  9.85it/s]\n",
      "100%|██████████| 1000/1000 [00:03<00:00, 266.30it/s]\n"
     ]
    },
    {
     "name": "stdout",
     "output_type": "stream",
     "text": [
      "(1000, 700, 300)\n"
     ]
    },
    {
     "name": "stderr",
     "output_type": "stream",
     "text": [
      "100%|██████████| 1000/1000 [01:28<00:00, 11.34it/s]\n",
      "100%|██████████| 1000/1000 [09:12<00:00,  1.81it/s]\n"
     ]
    },
    {
     "name": "stdout",
     "output_type": "stream",
     "text": [
      "(1000, 700, 300)\n"
     ]
    },
    {
     "name": "stderr",
     "output_type": "stream",
     "text": [
      "100%|██████████| 1000/1000 [01:44<00:00,  9.57it/s]\n",
      "100%|██████████| 1000/1000 [00:07<00:00, 132.35it/s]\n"
     ]
    },
    {
     "name": "stdout",
     "output_type": "stream",
     "text": [
      "(1000, 700, 300)\n"
     ]
    },
    {
     "name": "stderr",
     "output_type": "stream",
     "text": [
      "100%|██████████| 1000/1000 [01:40<00:00,  9.97it/s]\n"
     ]
    },
    {
     "name": "stdout",
     "output_type": "stream",
     "text": [
      "saved R0.V1 in h5py file\n",
      "saved R0.V2 in h5py file\n",
      "saved R0.V3 in h5py file\n",
      "saved R0.hV4 in h5py file\n",
      "saved R0.V3ab in h5py file\n",
      "saved R0.LO in h5py file\n",
      "saved R0.IPS in h5py file\n",
      "saved R0.VO in h5py file\n",
      "saved R0.PHC in h5py file\n",
      "saved R0.MT in h5py file\n",
      "saved R0.MST in h5py file\n",
      "saved R0.all in h5py file\n",
      "saved R0.other in h5py file\n",
      "saved Rs.V1 in h5py file\n",
      "saved Rs.V2 in h5py file\n",
      "saved Rs.V3 in h5py file\n",
      "saved Rs.hV4 in h5py file\n",
      "saved Rs.V3ab in h5py file\n",
      "saved Rs.LO in h5py file\n",
      "saved Rs.IPS in h5py file\n",
      "saved Rs.VO in h5py file\n",
      "saved Rs.PHC in h5py file\n",
      "saved Rs.MT in h5py file\n",
      "saved Rs.MST in h5py file\n",
      "saved Rs.all in h5py file\n",
      "saved Rs.other in h5py file\n",
      "saved Us.V1 in h5py file\n",
      "saved Us.V2 in h5py file\n",
      "saved Us.V3 in h5py file\n",
      "saved Us.hV4 in h5py file\n",
      "saved Us.V3ab in h5py file\n",
      "saved Us.LO in h5py file\n",
      "saved Us.IPS in h5py file\n",
      "saved Us.VO in h5py file\n",
      "saved Us.PHC in h5py file\n",
      "saved Us.MT in h5py file\n",
      "saved Us.MST in h5py file\n",
      "saved Us.all in h5py file\n",
      "saved Us.other in h5py file\n",
      "saved rproj.V1 in h5py file\n",
      "saved rproj.V2 in h5py file\n",
      "saved rproj.V3 in h5py file\n",
      "saved rproj.hV4 in h5py file\n",
      "saved rproj.V3ab in h5py file\n",
      "saved rproj.LO in h5py file\n",
      "saved rproj.IPS in h5py file\n",
      "saved rproj.VO in h5py file\n",
      "saved rproj.PHC in h5py file\n",
      "saved rproj.MT in h5py file\n",
      "saved rproj.MST in h5py file\n",
      "saved rproj.all in h5py file\n",
      "saved rproj.other in h5py file\n",
      "saved P in h5py file\n",
      "saved K in h5py file\n",
      "saved V in h5py file\n",
      "First pass\n"
     ]
    },
    {
     "name": "stderr",
     "output_type": "stream",
     "text": [
      "100%|██████████| 1000/1000 [01:19<00:00, 12.64it/s]\n"
     ]
    },
    {
     "name": "stdout",
     "output_type": "stream",
     "text": [
      "Second pass\n"
     ]
    },
    {
     "name": "stderr",
     "output_type": "stream",
     "text": [
      "100%|██████████| 1000/1000 [21:38<00:00,  1.30s/it]\n"
     ]
    },
    {
     "name": "stdout",
     "output_type": "stream",
     "text": [
      "First pass\n"
     ]
    },
    {
     "name": "stderr",
     "output_type": "stream",
     "text": [
      "100%|██████████| 1000/1000 [01:20<00:00, 12.43it/s]\n"
     ]
    },
    {
     "name": "stdout",
     "output_type": "stream",
     "text": [
      "Second pass\n"
     ]
    },
    {
     "name": "stderr",
     "output_type": "stream",
     "text": [
      "100%|██████████| 1000/1000 [22:38<00:00,  1.36s/it]\n"
     ]
    },
    {
     "name": "stdout",
     "output_type": "stream",
     "text": [
      "First pass\n"
     ]
    },
    {
     "name": "stderr",
     "output_type": "stream",
     "text": [
      "100%|██████████| 1000/1000 [01:27<00:00, 11.38it/s]\n"
     ]
    },
    {
     "name": "stdout",
     "output_type": "stream",
     "text": [
      "Second pass\n"
     ]
    },
    {
     "name": "stderr",
     "output_type": "stream",
     "text": [
      "100%|██████████| 1000/1000 [22:42<00:00,  1.36s/it]\n"
     ]
    },
    {
     "name": "stdout",
     "output_type": "stream",
     "text": [
      "First pass\n"
     ]
    },
    {
     "name": "stderr",
     "output_type": "stream",
     "text": [
      "100%|██████████| 1000/1000 [01:27<00:00, 11.43it/s]\n"
     ]
    },
    {
     "name": "stdout",
     "output_type": "stream",
     "text": [
      "Second pass\n"
     ]
    },
    {
     "name": "stderr",
     "output_type": "stream",
     "text": [
      "100%|██████████| 1000/1000 [22:34<00:00,  1.35s/it]\n"
     ]
    },
    {
     "name": "stdout",
     "output_type": "stream",
     "text": [
      "First pass\n"
     ]
    },
    {
     "name": "stderr",
     "output_type": "stream",
     "text": [
      "100%|██████████| 1000/1000 [01:27<00:00, 11.45it/s]\n"
     ]
    },
    {
     "name": "stdout",
     "output_type": "stream",
     "text": [
      "Second pass\n"
     ]
    },
    {
     "name": "stderr",
     "output_type": "stream",
     "text": [
      "100%|██████████| 1000/1000 [22:49<00:00,  1.37s/it]\n"
     ]
    },
    {
     "name": "stdout",
     "output_type": "stream",
     "text": [
      "First pass\n"
     ]
    },
    {
     "name": "stderr",
     "output_type": "stream",
     "text": [
      "100%|██████████| 1000/1000 [01:26<00:00, 11.55it/s]\n"
     ]
    },
    {
     "name": "stdout",
     "output_type": "stream",
     "text": [
      "Second pass\n"
     ]
    },
    {
     "name": "stderr",
     "output_type": "stream",
     "text": [
      "100%|██████████| 1000/1000 [22:21<00:00,  1.34s/it]\n"
     ]
    },
    {
     "name": "stdout",
     "output_type": "stream",
     "text": [
      "First pass\n"
     ]
    },
    {
     "name": "stderr",
     "output_type": "stream",
     "text": [
      "100%|██████████| 1000/1000 [01:25<00:00, 11.72it/s]\n"
     ]
    },
    {
     "name": "stdout",
     "output_type": "stream",
     "text": [
      "Second pass\n"
     ]
    },
    {
     "name": "stderr",
     "output_type": "stream",
     "text": [
      "100%|██████████| 1000/1000 [22:49<00:00,  1.37s/it]\n"
     ]
    },
    {
     "name": "stdout",
     "output_type": "stream",
     "text": [
      "First pass\n"
     ]
    },
    {
     "name": "stderr",
     "output_type": "stream",
     "text": [
      "100%|██████████| 1000/1000 [01:23<00:00, 11.92it/s]\n"
     ]
    },
    {
     "name": "stdout",
     "output_type": "stream",
     "text": [
      "Second pass\n"
     ]
    },
    {
     "name": "stderr",
     "output_type": "stream",
     "text": [
      "100%|██████████| 1000/1000 [22:42<00:00,  1.36s/it]\n"
     ]
    },
    {
     "name": "stdout",
     "output_type": "stream",
     "text": [
      "First pass\n"
     ]
    },
    {
     "name": "stderr",
     "output_type": "stream",
     "text": [
      "100%|██████████| 1000/1000 [01:24<00:00, 11.81it/s]\n"
     ]
    },
    {
     "name": "stdout",
     "output_type": "stream",
     "text": [
      "Second pass\n"
     ]
    },
    {
     "name": "stderr",
     "output_type": "stream",
     "text": [
      "100%|██████████| 1000/1000 [22:14<00:00,  1.33s/it]\n"
     ]
    },
    {
     "name": "stdout",
     "output_type": "stream",
     "text": [
      "First pass\n"
     ]
    },
    {
     "name": "stderr",
     "output_type": "stream",
     "text": [
      "100%|██████████| 1000/1000 [01:26<00:00, 11.59it/s]\n"
     ]
    },
    {
     "name": "stdout",
     "output_type": "stream",
     "text": [
      "Second pass\n"
     ]
    },
    {
     "name": "stderr",
     "output_type": "stream",
     "text": [
      "100%|██████████| 1000/1000 [22:28<00:00,  1.35s/it]\n"
     ]
    },
    {
     "name": "stdout",
     "output_type": "stream",
     "text": [
      "First pass\n"
     ]
    },
    {
     "name": "stderr",
     "output_type": "stream",
     "text": [
      "100%|██████████| 1000/1000 [01:24<00:00, 11.87it/s]\n"
     ]
    },
    {
     "name": "stdout",
     "output_type": "stream",
     "text": [
      "Second pass\n"
     ]
    },
    {
     "name": "stderr",
     "output_type": "stream",
     "text": [
      "100%|██████████| 1000/1000 [22:31<00:00,  1.35s/it]\n"
     ]
    },
    {
     "name": "stdout",
     "output_type": "stream",
     "text": [
      "First pass\n"
     ]
    },
    {
     "name": "stderr",
     "output_type": "stream",
     "text": [
      "100%|██████████| 1000/1000 [01:23<00:00, 12.05it/s]\n"
     ]
    },
    {
     "name": "stdout",
     "output_type": "stream",
     "text": [
      "Second pass\n"
     ]
    },
    {
     "name": "stderr",
     "output_type": "stream",
     "text": [
      "100%|██████████| 1000/1000 [22:41<00:00,  1.36s/it]\n"
     ]
    },
    {
     "name": "stdout",
     "output_type": "stream",
     "text": [
      "First pass\n"
     ]
    },
    {
     "name": "stderr",
     "output_type": "stream",
     "text": [
      "100%|██████████| 1000/1000 [01:23<00:00, 11.94it/s]\n"
     ]
    },
    {
     "name": "stdout",
     "output_type": "stream",
     "text": [
      "Second pass\n"
     ]
    },
    {
     "name": "stderr",
     "output_type": "stream",
     "text": [
      "100%|██████████| 1000/1000 [22:38<00:00,  1.36s/it]\n"
     ]
    },
    {
     "name": "stdout",
     "output_type": "stream",
     "text": [
      "saved Sign.V1 in h5py file\n",
      "saved Sign.V2 in h5py file\n",
      "saved Sign.V3 in h5py file\n",
      "saved Sign.hV4 in h5py file\n",
      "saved Sign.V3ab in h5py file\n",
      "saved Sign.LO in h5py file\n",
      "saved Sign.IPS in h5py file\n",
      "saved Sign.VO in h5py file\n",
      "saved Sign.PHC in h5py file\n",
      "saved Sign.MT in h5py file\n",
      "saved Sign.MST in h5py file\n",
      "saved Sign.all in h5py file\n",
      "saved Sign.other in h5py file\n",
      "saved Bias.V1 in h5py file\n",
      "saved Bias.V2 in h5py file\n",
      "saved Bias.V3 in h5py file\n",
      "saved Bias.hV4 in h5py file\n",
      "saved Bias.V3ab in h5py file\n",
      "saved Bias.LO in h5py file\n",
      "saved Bias.IPS in h5py file\n",
      "saved Bias.VO in h5py file\n",
      "saved Bias.PHC in h5py file\n",
      "saved Bias.MT in h5py file\n",
      "saved Bias.MST in h5py file\n",
      "saved Bias.all in h5py file\n",
      "saved Bias.other in h5py file\n",
      "saved Nsa.V1 in h5py file\n",
      "saved Nsa.V2 in h5py file\n",
      "saved Nsa.V3 in h5py file\n",
      "saved Nsa.hV4 in h5py file\n",
      "saved Nsa.V3ab in h5py file\n",
      "saved Nsa.LO in h5py file\n",
      "saved Nsa.IPS in h5py file\n",
      "saved Nsa.VO in h5py file\n",
      "saved Nsa.PHC in h5py file\n",
      "saved Nsa.MT in h5py file\n",
      "saved Nsa.MST in h5py file\n",
      "saved Nsa.all in h5py file\n",
      "saved Nsa.other in h5py file\n",
      "saved Nsb.V1 in h5py file\n",
      "saved Nsb.V2 in h5py file\n",
      "saved Nsb.V3 in h5py file\n",
      "saved Nsb.hV4 in h5py file\n",
      "saved Nsb.V3ab in h5py file\n",
      "saved Nsb.LO in h5py file\n",
      "saved Nsb.IPS in h5py file\n",
      "saved Nsb.VO in h5py file\n",
      "saved Nsb.PHC in h5py file\n",
      "saved Nsb.MT in h5py file\n",
      "saved Nsb.MST in h5py file\n",
      "saved Nsb.all in h5py file\n",
      "saved Nsb.other in h5py file\n",
      "saved Nss.V1 in h5py file\n",
      "saved Nss.V2 in h5py file\n",
      "saved Nss.V3 in h5py file\n",
      "saved Nss.hV4 in h5py file\n",
      "saved Nss.V3ab in h5py file\n",
      "saved Nss.LO in h5py file\n",
      "saved Nss.IPS in h5py file\n",
      "saved Nss.VO in h5py file\n",
      "saved Nss.PHC in h5py file\n",
      "saved Nss.MT in h5py file\n",
      "saved Nss.MST in h5py file\n",
      "saved Nss.all in h5py file\n",
      "saved Nss.other in h5py file\n",
      "saved Ds.V1 in h5py file\n",
      "saved Ds.V2 in h5py file\n",
      "saved Ds.V3 in h5py file\n",
      "saved Ds.hV4 in h5py file\n",
      "saved Ds.V3ab in h5py file\n",
      "saved Ds.LO in h5py file\n",
      "saved Ds.IPS in h5py file\n",
      "saved Ds.VO in h5py file\n",
      "saved Ds.PHC in h5py file\n",
      "saved Ds.MT in h5py file\n",
      "saved Ds.MST in h5py file\n",
      "saved Ds.all in h5py file\n",
      "saved Ds.other in h5py file\n",
      "saved SNR.V1 in h5py file\n",
      "saved SNR.V2 in h5py file\n",
      "saved SNR.V3 in h5py file\n",
      "saved SNR.hV4 in h5py file\n",
      "saved SNR.V3ab in h5py file\n",
      "saved SNR.LO in h5py file\n",
      "saved SNR.IPS in h5py file\n",
      "saved SNR.VO in h5py file\n",
      "saved SNR.PHC in h5py file\n",
      "saved SNR.MT in h5py file\n",
      "saved SNR.MST in h5py file\n",
      "saved SNR.all in h5py file\n",
      "saved SNR.other in h5py file\n",
      "saved m in h5py file\n",
      "saved P in h5py file\n",
      "dict_keys(['brain_nii_shape', 'label', 'pred', 'voxel_index', 'voxel_mask', 'voxel_roi'])\n"
     ]
    },
    {
     "name": "stderr",
     "output_type": "stream",
     "text": [
      "100%|██████████| 1000/1000 [01:19<00:00, 12.65it/s]\n"
     ]
    },
    {
     "name": "stdout",
     "output_type": "stream",
     "text": [
      "(1000, 700, 300)\n"
     ]
    },
    {
     "name": "stderr",
     "output_type": "stream",
     "text": [
      "100%|██████████| 1000/1000 [01:51<00:00,  8.94it/s]\n",
      "100%|██████████| 1000/1000 [00:56<00:00, 17.61it/s]\n"
     ]
    },
    {
     "name": "stdout",
     "output_type": "stream",
     "text": [
      "(1000, 700, 300)\n"
     ]
    },
    {
     "name": "stderr",
     "output_type": "stream",
     "text": [
      "100%|██████████| 1000/1000 [01:51<00:00,  8.97it/s]\n",
      "100%|██████████| 1000/1000 [00:48<00:00, 20.44it/s]\n"
     ]
    },
    {
     "name": "stdout",
     "output_type": "stream",
     "text": [
      "(1000, 700, 300)\n"
     ]
    },
    {
     "name": "stderr",
     "output_type": "stream",
     "text": [
      "100%|██████████| 1000/1000 [01:51<00:00,  8.94it/s]\n",
      "100%|██████████| 1000/1000 [00:12<00:00, 81.67it/s]\n"
     ]
    },
    {
     "name": "stdout",
     "output_type": "stream",
     "text": [
      "(1000, 700, 300)\n"
     ]
    },
    {
     "name": "stderr",
     "output_type": "stream",
     "text": [
      "100%|██████████| 1000/1000 [01:51<00:00,  9.00it/s]\n",
      "100%|██████████| 1000/1000 [00:20<00:00, 48.17it/s]\n"
     ]
    },
    {
     "name": "stdout",
     "output_type": "stream",
     "text": [
      "(1000, 700, 300)\n"
     ]
    },
    {
     "name": "stderr",
     "output_type": "stream",
     "text": [
      "100%|██████████| 1000/1000 [01:50<00:00,  9.05it/s]\n",
      "100%|██████████| 1000/1000 [00:11<00:00, 90.32it/s]\n"
     ]
    },
    {
     "name": "stdout",
     "output_type": "stream",
     "text": [
      "(1000, 700, 300)\n"
     ]
    },
    {
     "name": "stderr",
     "output_type": "stream",
     "text": [
      "100%|██████████| 1000/1000 [01:50<00:00,  9.04it/s]\n",
      "100%|██████████| 1000/1000 [00:55<00:00, 18.12it/s]\n"
     ]
    },
    {
     "name": "stdout",
     "output_type": "stream",
     "text": [
      "(1000, 700, 300)\n"
     ]
    },
    {
     "name": "stderr",
     "output_type": "stream",
     "text": [
      "100%|██████████| 1000/1000 [01:48<00:00,  9.19it/s]\n",
      "100%|██████████| 1000/1000 [00:12<00:00, 81.28it/s]\n"
     ]
    },
    {
     "name": "stdout",
     "output_type": "stream",
     "text": [
      "(1000, 700, 300)\n"
     ]
    },
    {
     "name": "stderr",
     "output_type": "stream",
     "text": [
      "100%|██████████| 1000/1000 [01:50<00:00,  9.09it/s]\n",
      "100%|██████████| 1000/1000 [00:08<00:00, 116.02it/s]\n"
     ]
    },
    {
     "name": "stdout",
     "output_type": "stream",
     "text": [
      "(1000, 700, 300)\n"
     ]
    },
    {
     "name": "stderr",
     "output_type": "stream",
     "text": [
      "100%|██████████| 1000/1000 [01:51<00:00,  9.00it/s]\n",
      "100%|██████████| 1000/1000 [00:09<00:00, 104.53it/s]\n"
     ]
    },
    {
     "name": "stdout",
     "output_type": "stream",
     "text": [
      "(1000, 700, 300)\n"
     ]
    },
    {
     "name": "stderr",
     "output_type": "stream",
     "text": [
      "100%|██████████| 1000/1000 [01:49<00:00,  9.16it/s]\n",
      "100%|██████████| 1000/1000 [00:03<00:00, 283.58it/s]\n"
     ]
    },
    {
     "name": "stdout",
     "output_type": "stream",
     "text": [
      "(1000, 700, 300)\n"
     ]
    },
    {
     "name": "stderr",
     "output_type": "stream",
     "text": [
      "100%|██████████| 1000/1000 [01:34<00:00, 10.55it/s]\n",
      "100%|██████████| 1000/1000 [07:10<00:00,  2.32it/s]\n"
     ]
    },
    {
     "name": "stdout",
     "output_type": "stream",
     "text": [
      "(1000, 700, 300)\n"
     ]
    },
    {
     "name": "stderr",
     "output_type": "stream",
     "text": [
      "100%|██████████| 1000/1000 [01:50<00:00,  9.03it/s]\n",
      "100%|██████████| 1000/1000 [00:06<00:00, 158.45it/s]\n"
     ]
    },
    {
     "name": "stdout",
     "output_type": "stream",
     "text": [
      "(1000, 700, 300)\n"
     ]
    },
    {
     "name": "stderr",
     "output_type": "stream",
     "text": [
      "100%|██████████| 1000/1000 [01:43<00:00,  9.67it/s]\n"
     ]
    },
    {
     "name": "stdout",
     "output_type": "stream",
     "text": [
      "saved R0.V1 in h5py file\n",
      "saved R0.V2 in h5py file\n",
      "saved R0.V3 in h5py file\n",
      "saved R0.hV4 in h5py file\n",
      "saved R0.V3ab in h5py file\n",
      "saved R0.LO in h5py file\n",
      "saved R0.IPS in h5py file\n",
      "saved R0.VO in h5py file\n",
      "saved R0.PHC in h5py file\n",
      "saved R0.MT in h5py file\n",
      "saved R0.MST in h5py file\n",
      "saved R0.all in h5py file\n",
      "saved R0.other in h5py file\n",
      "saved Rs.V1 in h5py file\n",
      "saved Rs.V2 in h5py file\n",
      "saved Rs.V3 in h5py file\n",
      "saved Rs.hV4 in h5py file\n",
      "saved Rs.V3ab in h5py file\n",
      "saved Rs.LO in h5py file\n",
      "saved Rs.IPS in h5py file\n",
      "saved Rs.VO in h5py file\n",
      "saved Rs.PHC in h5py file\n",
      "saved Rs.MT in h5py file\n",
      "saved Rs.MST in h5py file\n",
      "saved Rs.all in h5py file\n",
      "saved Rs.other in h5py file\n",
      "saved Us.V1 in h5py file\n",
      "saved Us.V2 in h5py file\n",
      "saved Us.V3 in h5py file\n",
      "saved Us.hV4 in h5py file\n",
      "saved Us.V3ab in h5py file\n",
      "saved Us.LO in h5py file\n",
      "saved Us.IPS in h5py file\n",
      "saved Us.VO in h5py file\n",
      "saved Us.PHC in h5py file\n",
      "saved Us.MT in h5py file\n",
      "saved Us.MST in h5py file\n",
      "saved Us.all in h5py file\n",
      "saved Us.other in h5py file\n",
      "saved rproj.V1 in h5py file\n",
      "saved rproj.V2 in h5py file\n",
      "saved rproj.V3 in h5py file\n",
      "saved rproj.hV4 in h5py file\n",
      "saved rproj.V3ab in h5py file\n",
      "saved rproj.LO in h5py file\n",
      "saved rproj.IPS in h5py file\n",
      "saved rproj.VO in h5py file\n",
      "saved rproj.PHC in h5py file\n",
      "saved rproj.MT in h5py file\n",
      "saved rproj.MST in h5py file\n",
      "saved rproj.all in h5py file\n",
      "saved rproj.other in h5py file\n",
      "saved P in h5py file\n",
      "saved K in h5py file\n",
      "saved V in h5py file\n",
      "First pass\n"
     ]
    },
    {
     "name": "stderr",
     "output_type": "stream",
     "text": [
      "100%|██████████| 1000/1000 [01:25<00:00, 11.73it/s]\n"
     ]
    },
    {
     "name": "stdout",
     "output_type": "stream",
     "text": [
      "Second pass\n"
     ]
    },
    {
     "name": "stderr",
     "output_type": "stream",
     "text": [
      "100%|██████████| 1000/1000 [22:10<00:00,  1.33s/it]\n"
     ]
    },
    {
     "name": "stdout",
     "output_type": "stream",
     "text": [
      "First pass\n"
     ]
    },
    {
     "name": "stderr",
     "output_type": "stream",
     "text": [
      "100%|██████████| 1000/1000 [01:25<00:00, 11.72it/s]\n"
     ]
    },
    {
     "name": "stdout",
     "output_type": "stream",
     "text": [
      "Second pass\n"
     ]
    },
    {
     "name": "stderr",
     "output_type": "stream",
     "text": [
      "100%|██████████| 1000/1000 [21:55<00:00,  1.32s/it]\n"
     ]
    },
    {
     "name": "stdout",
     "output_type": "stream",
     "text": [
      "First pass\n"
     ]
    },
    {
     "name": "stderr",
     "output_type": "stream",
     "text": [
      "100%|██████████| 1000/1000 [01:20<00:00, 12.38it/s]\n"
     ]
    },
    {
     "name": "stdout",
     "output_type": "stream",
     "text": [
      "Second pass\n"
     ]
    },
    {
     "name": "stderr",
     "output_type": "stream",
     "text": [
      "100%|██████████| 1000/1000 [22:32<00:00,  1.35s/it]\n"
     ]
    },
    {
     "name": "stdout",
     "output_type": "stream",
     "text": [
      "First pass\n"
     ]
    },
    {
     "name": "stderr",
     "output_type": "stream",
     "text": [
      "100%|██████████| 1000/1000 [01:23<00:00, 12.01it/s]\n"
     ]
    },
    {
     "name": "stdout",
     "output_type": "stream",
     "text": [
      "Second pass\n"
     ]
    },
    {
     "name": "stderr",
     "output_type": "stream",
     "text": [
      "100%|██████████| 1000/1000 [22:08<00:00,  1.33s/it]\n"
     ]
    },
    {
     "name": "stdout",
     "output_type": "stream",
     "text": [
      "First pass\n"
     ]
    },
    {
     "name": "stderr",
     "output_type": "stream",
     "text": [
      "100%|██████████| 1000/1000 [01:23<00:00, 12.01it/s]\n"
     ]
    },
    {
     "name": "stdout",
     "output_type": "stream",
     "text": [
      "Second pass\n"
     ]
    },
    {
     "name": "stderr",
     "output_type": "stream",
     "text": [
      "100%|██████████| 1000/1000 [21:53<00:00,  1.31s/it]\n"
     ]
    },
    {
     "name": "stdout",
     "output_type": "stream",
     "text": [
      "First pass\n"
     ]
    },
    {
     "name": "stderr",
     "output_type": "stream",
     "text": [
      "100%|██████████| 1000/1000 [01:22<00:00, 12.12it/s]\n"
     ]
    },
    {
     "name": "stdout",
     "output_type": "stream",
     "text": [
      "Second pass\n"
     ]
    },
    {
     "name": "stderr",
     "output_type": "stream",
     "text": [
      "100%|██████████| 1000/1000 [21:54<00:00,  1.31s/it]\n"
     ]
    },
    {
     "name": "stdout",
     "output_type": "stream",
     "text": [
      "First pass\n"
     ]
    },
    {
     "name": "stderr",
     "output_type": "stream",
     "text": [
      "100%|██████████| 1000/1000 [01:25<00:00, 11.72it/s]\n"
     ]
    },
    {
     "name": "stdout",
     "output_type": "stream",
     "text": [
      "Second pass\n"
     ]
    },
    {
     "name": "stderr",
     "output_type": "stream",
     "text": [
      "100%|██████████| 1000/1000 [22:47<00:00,  1.37s/it]\n"
     ]
    },
    {
     "name": "stdout",
     "output_type": "stream",
     "text": [
      "First pass\n"
     ]
    },
    {
     "name": "stderr",
     "output_type": "stream",
     "text": [
      "100%|██████████| 1000/1000 [01:23<00:00, 12.02it/s]\n"
     ]
    },
    {
     "name": "stdout",
     "output_type": "stream",
     "text": [
      "Second pass\n"
     ]
    },
    {
     "name": "stderr",
     "output_type": "stream",
     "text": [
      "100%|██████████| 1000/1000 [22:02<00:00,  1.32s/it]\n"
     ]
    },
    {
     "name": "stdout",
     "output_type": "stream",
     "text": [
      "First pass\n"
     ]
    },
    {
     "name": "stderr",
     "output_type": "stream",
     "text": [
      "100%|██████████| 1000/1000 [01:27<00:00, 11.44it/s]\n"
     ]
    },
    {
     "name": "stdout",
     "output_type": "stream",
     "text": [
      "Second pass\n"
     ]
    },
    {
     "name": "stderr",
     "output_type": "stream",
     "text": [
      "100%|██████████| 1000/1000 [22:01<00:00,  1.32s/it]\n"
     ]
    },
    {
     "name": "stdout",
     "output_type": "stream",
     "text": [
      "First pass\n"
     ]
    },
    {
     "name": "stderr",
     "output_type": "stream",
     "text": [
      "100%|██████████| 1000/1000 [01:23<00:00, 12.00it/s]\n"
     ]
    },
    {
     "name": "stdout",
     "output_type": "stream",
     "text": [
      "Second pass\n"
     ]
    },
    {
     "name": "stderr",
     "output_type": "stream",
     "text": [
      "100%|██████████| 1000/1000 [21:53<00:00,  1.31s/it]\n"
     ]
    },
    {
     "name": "stdout",
     "output_type": "stream",
     "text": [
      "First pass\n"
     ]
    },
    {
     "name": "stderr",
     "output_type": "stream",
     "text": [
      "100%|██████████| 1000/1000 [01:24<00:00, 11.88it/s]\n"
     ]
    },
    {
     "name": "stdout",
     "output_type": "stream",
     "text": [
      "Second pass\n"
     ]
    },
    {
     "name": "stderr",
     "output_type": "stream",
     "text": [
      "100%|██████████| 1000/1000 [21:50<00:00,  1.31s/it]\n"
     ]
    },
    {
     "name": "stdout",
     "output_type": "stream",
     "text": [
      "First pass\n"
     ]
    },
    {
     "name": "stderr",
     "output_type": "stream",
     "text": [
      "100%|██████████| 1000/1000 [01:23<00:00, 12.00it/s]\n"
     ]
    },
    {
     "name": "stdout",
     "output_type": "stream",
     "text": [
      "Second pass\n"
     ]
    },
    {
     "name": "stderr",
     "output_type": "stream",
     "text": [
      "100%|██████████| 1000/1000 [22:29<00:00,  1.35s/it]\n"
     ]
    },
    {
     "name": "stdout",
     "output_type": "stream",
     "text": [
      "First pass\n"
     ]
    },
    {
     "name": "stderr",
     "output_type": "stream",
     "text": [
      "100%|██████████| 1000/1000 [01:23<00:00, 11.99it/s]\n"
     ]
    },
    {
     "name": "stdout",
     "output_type": "stream",
     "text": [
      "Second pass\n"
     ]
    },
    {
     "name": "stderr",
     "output_type": "stream",
     "text": [
      "100%|██████████| 1000/1000 [22:39<00:00,  1.36s/it]\n"
     ]
    },
    {
     "name": "stdout",
     "output_type": "stream",
     "text": [
      "saved Sign.V1 in h5py file\n",
      "saved Sign.V2 in h5py file\n",
      "saved Sign.V3 in h5py file\n",
      "saved Sign.hV4 in h5py file\n",
      "saved Sign.V3ab in h5py file\n",
      "saved Sign.LO in h5py file\n",
      "saved Sign.IPS in h5py file\n",
      "saved Sign.VO in h5py file\n",
      "saved Sign.PHC in h5py file\n",
      "saved Sign.MT in h5py file\n",
      "saved Sign.MST in h5py file\n",
      "saved Sign.all in h5py file\n",
      "saved Sign.other in h5py file\n",
      "saved Bias.V1 in h5py file\n",
      "saved Bias.V2 in h5py file\n",
      "saved Bias.V3 in h5py file\n",
      "saved Bias.hV4 in h5py file\n",
      "saved Bias.V3ab in h5py file\n",
      "saved Bias.LO in h5py file\n",
      "saved Bias.IPS in h5py file\n",
      "saved Bias.VO in h5py file\n",
      "saved Bias.PHC in h5py file\n",
      "saved Bias.MT in h5py file\n",
      "saved Bias.MST in h5py file\n",
      "saved Bias.all in h5py file\n",
      "saved Bias.other in h5py file\n",
      "saved Nsa.V1 in h5py file\n",
      "saved Nsa.V2 in h5py file\n",
      "saved Nsa.V3 in h5py file\n",
      "saved Nsa.hV4 in h5py file\n",
      "saved Nsa.V3ab in h5py file\n",
      "saved Nsa.LO in h5py file\n",
      "saved Nsa.IPS in h5py file\n",
      "saved Nsa.VO in h5py file\n",
      "saved Nsa.PHC in h5py file\n",
      "saved Nsa.MT in h5py file\n",
      "saved Nsa.MST in h5py file\n",
      "saved Nsa.all in h5py file\n",
      "saved Nsa.other in h5py file\n",
      "saved Nsb.V1 in h5py file\n",
      "saved Nsb.V2 in h5py file\n",
      "saved Nsb.V3 in h5py file\n",
      "saved Nsb.hV4 in h5py file\n",
      "saved Nsb.V3ab in h5py file\n",
      "saved Nsb.LO in h5py file\n",
      "saved Nsb.IPS in h5py file\n",
      "saved Nsb.VO in h5py file\n",
      "saved Nsb.PHC in h5py file\n",
      "saved Nsb.MT in h5py file\n",
      "saved Nsb.MST in h5py file\n",
      "saved Nsb.all in h5py file\n",
      "saved Nsb.other in h5py file\n",
      "saved Nss.V1 in h5py file\n",
      "saved Nss.V2 in h5py file\n",
      "saved Nss.V3 in h5py file\n",
      "saved Nss.hV4 in h5py file\n",
      "saved Nss.V3ab in h5py file\n",
      "saved Nss.LO in h5py file\n",
      "saved Nss.IPS in h5py file\n",
      "saved Nss.VO in h5py file\n",
      "saved Nss.PHC in h5py file\n",
      "saved Nss.MT in h5py file\n",
      "saved Nss.MST in h5py file\n",
      "saved Nss.all in h5py file\n",
      "saved Nss.other in h5py file\n",
      "saved Ds.V1 in h5py file\n",
      "saved Ds.V2 in h5py file\n",
      "saved Ds.V3 in h5py file\n",
      "saved Ds.hV4 in h5py file\n",
      "saved Ds.V3ab in h5py file\n",
      "saved Ds.LO in h5py file\n",
      "saved Ds.IPS in h5py file\n",
      "saved Ds.VO in h5py file\n",
      "saved Ds.PHC in h5py file\n",
      "saved Ds.MT in h5py file\n",
      "saved Ds.MST in h5py file\n",
      "saved Ds.all in h5py file\n",
      "saved Ds.other in h5py file\n",
      "saved SNR.V1 in h5py file\n",
      "saved SNR.V2 in h5py file\n",
      "saved SNR.V3 in h5py file\n",
      "saved SNR.hV4 in h5py file\n",
      "saved SNR.V3ab in h5py file\n",
      "saved SNR.LO in h5py file\n",
      "saved SNR.IPS in h5py file\n",
      "saved SNR.VO in h5py file\n",
      "saved SNR.PHC in h5py file\n",
      "saved SNR.MT in h5py file\n",
      "saved SNR.MST in h5py file\n",
      "saved SNR.all in h5py file\n",
      "saved SNR.other in h5py file\n",
      "saved m in h5py file\n",
      "saved P in h5py file\n",
      "dict_keys(['brain_nii_shape', 'label', 'pred', 'voxel_index', 'voxel_mask', 'voxel_roi'])\n"
     ]
    },
    {
     "name": "stderr",
     "output_type": "stream",
     "text": [
      "100%|██████████| 1000/1000 [01:13<00:00, 13.70it/s]\n"
     ]
    },
    {
     "name": "stdout",
     "output_type": "stream",
     "text": [
      "(1000, 700, 300)\n"
     ]
    },
    {
     "name": "stderr",
     "output_type": "stream",
     "text": [
      "100%|██████████| 1000/1000 [01:50<00:00,  9.03it/s]\n",
      "100%|██████████| 1000/1000 [00:58<00:00, 17.00it/s]\n"
     ]
    },
    {
     "name": "stdout",
     "output_type": "stream",
     "text": [
      "(1000, 700, 300)\n"
     ]
    },
    {
     "name": "stderr",
     "output_type": "stream",
     "text": [
      "100%|██████████| 1000/1000 [01:49<00:00,  9.11it/s]\n",
      "100%|██████████| 1000/1000 [00:52<00:00, 18.91it/s]\n"
     ]
    },
    {
     "name": "stdout",
     "output_type": "stream",
     "text": [
      "(1000, 700, 300)\n"
     ]
    },
    {
     "name": "stderr",
     "output_type": "stream",
     "text": [
      "100%|██████████| 1000/1000 [01:51<00:00,  8.98it/s]\n",
      "100%|██████████| 1000/1000 [00:14<00:00, 66.78it/s]\n"
     ]
    },
    {
     "name": "stdout",
     "output_type": "stream",
     "text": [
      "(1000, 700, 300)\n"
     ]
    },
    {
     "name": "stderr",
     "output_type": "stream",
     "text": [
      "100%|██████████| 1000/1000 [01:52<00:00,  8.86it/s]\n",
      "100%|██████████| 1000/1000 [00:18<00:00, 52.73it/s]\n"
     ]
    },
    {
     "name": "stdout",
     "output_type": "stream",
     "text": [
      "(1000, 700, 300)\n"
     ]
    },
    {
     "name": "stderr",
     "output_type": "stream",
     "text": [
      "100%|██████████| 1000/1000 [01:50<00:00,  9.02it/s]\n",
      "100%|██████████| 1000/1000 [00:11<00:00, 85.29it/s]\n"
     ]
    },
    {
     "name": "stdout",
     "output_type": "stream",
     "text": [
      "(1000, 700, 300)\n"
     ]
    },
    {
     "name": "stderr",
     "output_type": "stream",
     "text": [
      "100%|██████████| 1000/1000 [01:50<00:00,  9.01it/s]\n",
      "100%|██████████| 1000/1000 [01:28<00:00, 11.27it/s]\n"
     ]
    },
    {
     "name": "stdout",
     "output_type": "stream",
     "text": [
      "(1000, 700, 300)\n"
     ]
    },
    {
     "name": "stderr",
     "output_type": "stream",
     "text": [
      "100%|██████████| 1000/1000 [01:51<00:00,  8.99it/s]\n",
      "100%|██████████| 1000/1000 [00:13<00:00, 74.75it/s]\n"
     ]
    },
    {
     "name": "stdout",
     "output_type": "stream",
     "text": [
      "(1000, 700, 300)\n"
     ]
    },
    {
     "name": "stderr",
     "output_type": "stream",
     "text": [
      "100%|██████████| 1000/1000 [01:50<00:00,  9.04it/s]\n",
      "100%|██████████| 1000/1000 [00:11<00:00, 90.70it/s]\n"
     ]
    },
    {
     "name": "stdout",
     "output_type": "stream",
     "text": [
      "(1000, 700, 300)\n"
     ]
    },
    {
     "name": "stderr",
     "output_type": "stream",
     "text": [
      "100%|██████████| 1000/1000 [01:52<00:00,  8.89it/s]\n",
      "100%|██████████| 1000/1000 [00:11<00:00, 87.97it/s]\n"
     ]
    },
    {
     "name": "stdout",
     "output_type": "stream",
     "text": [
      "(1000, 700, 300)\n"
     ]
    },
    {
     "name": "stderr",
     "output_type": "stream",
     "text": [
      "100%|██████████| 1000/1000 [01:50<00:00,  9.02it/s]\n",
      "100%|██████████| 1000/1000 [00:04<00:00, 249.18it/s]\n"
     ]
    },
    {
     "name": "stdout",
     "output_type": "stream",
     "text": [
      "(1000, 700, 300)\n"
     ]
    },
    {
     "name": "stderr",
     "output_type": "stream",
     "text": [
      "100%|██████████| 1000/1000 [01:35<00:00, 10.49it/s]\n",
      "100%|██████████| 1000/1000 [07:55<00:00,  2.10it/s]\n"
     ]
    },
    {
     "name": "stdout",
     "output_type": "stream",
     "text": [
      "(1000, 700, 300)\n"
     ]
    },
    {
     "name": "stderr",
     "output_type": "stream",
     "text": [
      "100%|██████████| 1000/1000 [01:50<00:00,  9.03it/s]\n",
      "100%|██████████| 1000/1000 [00:07<00:00, 127.24it/s]\n"
     ]
    },
    {
     "name": "stdout",
     "output_type": "stream",
     "text": [
      "(1000, 700, 300)\n"
     ]
    },
    {
     "name": "stderr",
     "output_type": "stream",
     "text": [
      "100%|██████████| 1000/1000 [01:48<00:00,  9.23it/s]\n"
     ]
    },
    {
     "name": "stdout",
     "output_type": "stream",
     "text": [
      "saved R0.V1 in h5py file\n",
      "saved R0.V2 in h5py file\n",
      "saved R0.V3 in h5py file\n",
      "saved R0.hV4 in h5py file\n",
      "saved R0.V3ab in h5py file\n",
      "saved R0.LO in h5py file\n",
      "saved R0.IPS in h5py file\n",
      "saved R0.VO in h5py file\n",
      "saved R0.PHC in h5py file\n",
      "saved R0.MT in h5py file\n",
      "saved R0.MST in h5py file\n",
      "saved R0.all in h5py file\n",
      "saved R0.other in h5py file\n",
      "saved Rs.V1 in h5py file\n",
      "saved Rs.V2 in h5py file\n",
      "saved Rs.V3 in h5py file\n",
      "saved Rs.hV4 in h5py file\n",
      "saved Rs.V3ab in h5py file\n",
      "saved Rs.LO in h5py file\n",
      "saved Rs.IPS in h5py file\n",
      "saved Rs.VO in h5py file\n",
      "saved Rs.PHC in h5py file\n",
      "saved Rs.MT in h5py file\n",
      "saved Rs.MST in h5py file\n",
      "saved Rs.all in h5py file\n",
      "saved Rs.other in h5py file\n",
      "saved Us.V1 in h5py file\n",
      "saved Us.V2 in h5py file\n",
      "saved Us.V3 in h5py file\n",
      "saved Us.hV4 in h5py file\n",
      "saved Us.V3ab in h5py file\n",
      "saved Us.LO in h5py file\n",
      "saved Us.IPS in h5py file\n",
      "saved Us.VO in h5py file\n",
      "saved Us.PHC in h5py file\n",
      "saved Us.MT in h5py file\n",
      "saved Us.MST in h5py file\n",
      "saved Us.all in h5py file\n",
      "saved Us.other in h5py file\n",
      "saved rproj.V1 in h5py file\n",
      "saved rproj.V2 in h5py file\n",
      "saved rproj.V3 in h5py file\n",
      "saved rproj.hV4 in h5py file\n",
      "saved rproj.V3ab in h5py file\n",
      "saved rproj.LO in h5py file\n",
      "saved rproj.IPS in h5py file\n",
      "saved rproj.VO in h5py file\n",
      "saved rproj.PHC in h5py file\n",
      "saved rproj.MT in h5py file\n",
      "saved rproj.MST in h5py file\n",
      "saved rproj.all in h5py file\n",
      "saved rproj.other in h5py file\n",
      "saved P in h5py file\n",
      "saved K in h5py file\n",
      "saved V in h5py file\n",
      "First pass\n"
     ]
    },
    {
     "name": "stderr",
     "output_type": "stream",
     "text": [
      "100%|██████████| 1000/1000 [01:25<00:00, 11.71it/s]\n"
     ]
    },
    {
     "name": "stdout",
     "output_type": "stream",
     "text": [
      "Second pass\n"
     ]
    },
    {
     "name": "stderr",
     "output_type": "stream",
     "text": [
      "100%|██████████| 1000/1000 [22:17<00:00,  1.34s/it]\n"
     ]
    },
    {
     "name": "stdout",
     "output_type": "stream",
     "text": [
      "First pass\n"
     ]
    },
    {
     "name": "stderr",
     "output_type": "stream",
     "text": [
      "100%|██████████| 1000/1000 [01:26<00:00, 11.61it/s]\n"
     ]
    },
    {
     "name": "stdout",
     "output_type": "stream",
     "text": [
      "Second pass\n"
     ]
    },
    {
     "name": "stderr",
     "output_type": "stream",
     "text": [
      "100%|██████████| 1000/1000 [22:22<00:00,  1.34s/it]\n"
     ]
    },
    {
     "name": "stdout",
     "output_type": "stream",
     "text": [
      "First pass\n"
     ]
    },
    {
     "name": "stderr",
     "output_type": "stream",
     "text": [
      "100%|██████████| 1000/1000 [01:22<00:00, 12.18it/s]\n"
     ]
    },
    {
     "name": "stdout",
     "output_type": "stream",
     "text": [
      "Second pass\n"
     ]
    },
    {
     "name": "stderr",
     "output_type": "stream",
     "text": [
      "100%|██████████| 1000/1000 [22:28<00:00,  1.35s/it]\n"
     ]
    },
    {
     "name": "stdout",
     "output_type": "stream",
     "text": [
      "First pass\n"
     ]
    },
    {
     "name": "stderr",
     "output_type": "stream",
     "text": [
      "100%|██████████| 1000/1000 [01:23<00:00, 11.97it/s]\n"
     ]
    },
    {
     "name": "stdout",
     "output_type": "stream",
     "text": [
      "Second pass\n"
     ]
    },
    {
     "name": "stderr",
     "output_type": "stream",
     "text": [
      "100%|██████████| 1000/1000 [22:08<00:00,  1.33s/it]\n"
     ]
    },
    {
     "name": "stdout",
     "output_type": "stream",
     "text": [
      "First pass\n"
     ]
    },
    {
     "name": "stderr",
     "output_type": "stream",
     "text": [
      "100%|██████████| 1000/1000 [01:23<00:00, 12.03it/s]\n"
     ]
    },
    {
     "name": "stdout",
     "output_type": "stream",
     "text": [
      "Second pass\n"
     ]
    },
    {
     "name": "stderr",
     "output_type": "stream",
     "text": [
      "100%|██████████| 1000/1000 [22:22<00:00,  1.34s/it]\n"
     ]
    },
    {
     "name": "stdout",
     "output_type": "stream",
     "text": [
      "First pass\n"
     ]
    },
    {
     "name": "stderr",
     "output_type": "stream",
     "text": [
      "100%|██████████| 1000/1000 [01:25<00:00, 11.69it/s]\n"
     ]
    },
    {
     "name": "stdout",
     "output_type": "stream",
     "text": [
      "Second pass\n"
     ]
    },
    {
     "name": "stderr",
     "output_type": "stream",
     "text": [
      "100%|██████████| 1000/1000 [22:48<00:00,  1.37s/it]\n"
     ]
    },
    {
     "name": "stdout",
     "output_type": "stream",
     "text": [
      "First pass\n"
     ]
    },
    {
     "name": "stderr",
     "output_type": "stream",
     "text": [
      "100%|██████████| 1000/1000 [01:23<00:00, 11.91it/s]\n"
     ]
    },
    {
     "name": "stdout",
     "output_type": "stream",
     "text": [
      "Second pass\n"
     ]
    },
    {
     "name": "stderr",
     "output_type": "stream",
     "text": [
      "100%|██████████| 1000/1000 [22:44<00:00,  1.36s/it]\n"
     ]
    },
    {
     "name": "stdout",
     "output_type": "stream",
     "text": [
      "First pass\n"
     ]
    },
    {
     "name": "stderr",
     "output_type": "stream",
     "text": [
      "100%|██████████| 1000/1000 [01:25<00:00, 11.76it/s]\n"
     ]
    },
    {
     "name": "stdout",
     "output_type": "stream",
     "text": [
      "Second pass\n"
     ]
    },
    {
     "name": "stderr",
     "output_type": "stream",
     "text": [
      "100%|██████████| 1000/1000 [22:19<00:00,  1.34s/it]\n"
     ]
    },
    {
     "name": "stdout",
     "output_type": "stream",
     "text": [
      "First pass\n"
     ]
    },
    {
     "name": "stderr",
     "output_type": "stream",
     "text": [
      "100%|██████████| 1000/1000 [01:25<00:00, 11.76it/s]\n"
     ]
    },
    {
     "name": "stdout",
     "output_type": "stream",
     "text": [
      "Second pass\n"
     ]
    },
    {
     "name": "stderr",
     "output_type": "stream",
     "text": [
      "100%|██████████| 1000/1000 [22:20<00:00,  1.34s/it]\n"
     ]
    },
    {
     "name": "stdout",
     "output_type": "stream",
     "text": [
      "First pass\n"
     ]
    },
    {
     "name": "stderr",
     "output_type": "stream",
     "text": [
      "100%|██████████| 1000/1000 [01:25<00:00, 11.73it/s]\n"
     ]
    },
    {
     "name": "stdout",
     "output_type": "stream",
     "text": [
      "Second pass\n"
     ]
    },
    {
     "name": "stderr",
     "output_type": "stream",
     "text": [
      "100%|██████████| 1000/1000 [22:12<00:00,  1.33s/it]\n"
     ]
    },
    {
     "name": "stdout",
     "output_type": "stream",
     "text": [
      "First pass\n"
     ]
    },
    {
     "name": "stderr",
     "output_type": "stream",
     "text": [
      "100%|██████████| 1000/1000 [01:23<00:00, 11.96it/s]\n"
     ]
    },
    {
     "name": "stdout",
     "output_type": "stream",
     "text": [
      "Second pass\n"
     ]
    },
    {
     "name": "stderr",
     "output_type": "stream",
     "text": [
      "100%|██████████| 1000/1000 [21:53<00:00,  1.31s/it]\n"
     ]
    },
    {
     "name": "stdout",
     "output_type": "stream",
     "text": [
      "First pass\n"
     ]
    },
    {
     "name": "stderr",
     "output_type": "stream",
     "text": [
      "100%|██████████| 1000/1000 [01:24<00:00, 11.86it/s]\n"
     ]
    },
    {
     "name": "stdout",
     "output_type": "stream",
     "text": [
      "Second pass\n"
     ]
    },
    {
     "name": "stderr",
     "output_type": "stream",
     "text": [
      "100%|██████████| 1000/1000 [21:57<00:00,  1.32s/it]\n"
     ]
    },
    {
     "name": "stdout",
     "output_type": "stream",
     "text": [
      "First pass\n"
     ]
    },
    {
     "name": "stderr",
     "output_type": "stream",
     "text": [
      "100%|██████████| 1000/1000 [01:23<00:00, 11.91it/s]\n"
     ]
    },
    {
     "name": "stdout",
     "output_type": "stream",
     "text": [
      "Second pass\n"
     ]
    },
    {
     "name": "stderr",
     "output_type": "stream",
     "text": [
      "100%|██████████| 1000/1000 [21:55<00:00,  1.32s/it]\n"
     ]
    },
    {
     "name": "stdout",
     "output_type": "stream",
     "text": [
      "saved Sign.V1 in h5py file\n",
      "saved Sign.V2 in h5py file\n",
      "saved Sign.V3 in h5py file\n",
      "saved Sign.hV4 in h5py file\n",
      "saved Sign.V3ab in h5py file\n",
      "saved Sign.LO in h5py file\n",
      "saved Sign.IPS in h5py file\n",
      "saved Sign.VO in h5py file\n",
      "saved Sign.PHC in h5py file\n",
      "saved Sign.MT in h5py file\n",
      "saved Sign.MST in h5py file\n",
      "saved Sign.all in h5py file\n",
      "saved Sign.other in h5py file\n",
      "saved Bias.V1 in h5py file\n",
      "saved Bias.V2 in h5py file\n",
      "saved Bias.V3 in h5py file\n",
      "saved Bias.hV4 in h5py file\n",
      "saved Bias.V3ab in h5py file\n",
      "saved Bias.LO in h5py file\n",
      "saved Bias.IPS in h5py file\n",
      "saved Bias.VO in h5py file\n",
      "saved Bias.PHC in h5py file\n",
      "saved Bias.MT in h5py file\n",
      "saved Bias.MST in h5py file\n",
      "saved Bias.all in h5py file\n",
      "saved Bias.other in h5py file\n",
      "saved Nsa.V1 in h5py file\n",
      "saved Nsa.V2 in h5py file\n",
      "saved Nsa.V3 in h5py file\n",
      "saved Nsa.hV4 in h5py file\n",
      "saved Nsa.V3ab in h5py file\n",
      "saved Nsa.LO in h5py file\n",
      "saved Nsa.IPS in h5py file\n",
      "saved Nsa.VO in h5py file\n",
      "saved Nsa.PHC in h5py file\n",
      "saved Nsa.MT in h5py file\n",
      "saved Nsa.MST in h5py file\n",
      "saved Nsa.all in h5py file\n",
      "saved Nsa.other in h5py file\n",
      "saved Nsb.V1 in h5py file\n",
      "saved Nsb.V2 in h5py file\n",
      "saved Nsb.V3 in h5py file\n",
      "saved Nsb.hV4 in h5py file\n",
      "saved Nsb.V3ab in h5py file\n",
      "saved Nsb.LO in h5py file\n",
      "saved Nsb.IPS in h5py file\n",
      "saved Nsb.VO in h5py file\n",
      "saved Nsb.PHC in h5py file\n",
      "saved Nsb.MT in h5py file\n",
      "saved Nsb.MST in h5py file\n",
      "saved Nsb.all in h5py file\n",
      "saved Nsb.other in h5py file\n",
      "saved Nss.V1 in h5py file\n",
      "saved Nss.V2 in h5py file\n",
      "saved Nss.V3 in h5py file\n",
      "saved Nss.hV4 in h5py file\n",
      "saved Nss.V3ab in h5py file\n",
      "saved Nss.LO in h5py file\n",
      "saved Nss.IPS in h5py file\n",
      "saved Nss.VO in h5py file\n",
      "saved Nss.PHC in h5py file\n",
      "saved Nss.MT in h5py file\n",
      "saved Nss.MST in h5py file\n",
      "saved Nss.all in h5py file\n",
      "saved Nss.other in h5py file\n",
      "saved Ds.V1 in h5py file\n",
      "saved Ds.V2 in h5py file\n",
      "saved Ds.V3 in h5py file\n",
      "saved Ds.hV4 in h5py file\n",
      "saved Ds.V3ab in h5py file\n",
      "saved Ds.LO in h5py file\n",
      "saved Ds.IPS in h5py file\n",
      "saved Ds.VO in h5py file\n",
      "saved Ds.PHC in h5py file\n",
      "saved Ds.MT in h5py file\n",
      "saved Ds.MST in h5py file\n",
      "saved Ds.all in h5py file\n",
      "saved Ds.other in h5py file\n",
      "saved SNR.V1 in h5py file\n",
      "saved SNR.V2 in h5py file\n",
      "saved SNR.V3 in h5py file\n",
      "saved SNR.hV4 in h5py file\n",
      "saved SNR.V3ab in h5py file\n",
      "saved SNR.LO in h5py file\n",
      "saved SNR.IPS in h5py file\n",
      "saved SNR.VO in h5py file\n",
      "saved SNR.PHC in h5py file\n",
      "saved SNR.MT in h5py file\n",
      "saved SNR.MST in h5py file\n",
      "saved SNR.all in h5py file\n",
      "saved SNR.other in h5py file\n",
      "saved m in h5py file\n",
      "saved P in h5py file\n"
     ]
    }
   ],
   "source": [
    "K = 1000\n",
    "P = 700\n",
    "V = 300\n",
    "m = 5\n",
    "\n",
    "for subj in trn_subjects:\n",
    "    manifold_data = {'R0': {}, 'Rs': {}, 'Us': {}, 'rproj': {}, 'P': P, 'K': K, 'V': V}\n",
    "    \n",
    "    ###\n",
    "    data_set = h5py.File(input_dir + 'imagenet_trn_pred_subj%02d.h5py'%subj, 'r')\n",
    "    imnet_pred_dict = embed_dict({s: np.copy(d) for s,d in data_set.items()})\n",
    "    data_set.close()\n",
    "    print (imnet_pred_dict.keys())\n",
    "    \n",
    "    #imnet_pred_dict['pred'] -= np.mean(imnet_pred_dict['pred'], axis=0, keepdims=True)\n",
    "    #imnet_pred_dict['pred'] /= np.std(imnet_pred_dict['pred'], axis=0, keepdims=True)\n",
    "    \n",
    "    ###\n",
    "    for roi_mask, roi_name in iterate_roi(group, voxel_roi[subj], roi_map, group_names):\n",
    "        manifolds = []\n",
    "        pred = imnet_pred_dict['pred'][:, roi_mask]  \n",
    "        A = np.random.randn(np.sum(roi_mask),V) / np.sqrt(V)\n",
    "\n",
    "        for l in tqdm(range(K)):\n",
    "            idxa, cidxa = k_rand_label_index(imnet_pred_dict['label'], 0, l)\n",
    "            np.random.shuffle(cidxa)\n",
    "            if len(cidxa)<P:\n",
    "                cidxa = np.concatenate([cidxa, cidxa[np.random.randint(0,len(cidxa),P-len(cidxa))]], axis=0)\n",
    "            manifolds += [pred[cidxa[:P]]@A,]\n",
    "\n",
    "        manifolds = np.array(manifolds)\n",
    "        manifold_data['rproj'][roi_name] = A\n",
    "        print (manifolds.shape)\n",
    "        \n",
    "        ###\n",
    "        R0s, Rs, Us = [],[],[]\n",
    "        for l in tqdm(range(K)):\n",
    "            r0a, Ra, Ua = PCA_geometry(manifolds[l])\n",
    "            if r0a is not None:\n",
    "                R0s += [r0a,]\n",
    "                Rs  += [Ra]\n",
    "                Us  += [Ua,]\n",
    "            else:\n",
    "                R0s += [np.zeros(shape=(V)),]\n",
    "                Rs += [np.zeros(shape=(V)),]\n",
    "                Us  += [np.zeros(shape=(V, V)),]            \n",
    "\n",
    "        manifold_data['R0'][roi_name] = np.array(R0s)\n",
    "        manifold_data['Rs'][roi_name]  = np.array(Rs)\n",
    "        manifold_data['Us'][roi_name]  = np.array(Us)\n",
    "        \n",
    "        del manifolds\n",
    "        \n",
    "    save_stuff( output_dir + 'imagenet_manifold_subj%02d'%subj, flatten_dict(manifold_data))\n",
    "    \n",
    "    ###\n",
    "    manifold_dict = {'Sign': {}, 'Bias': {}, 'Nsa': {}, 'Nsb': {}, 'Nss': {}, 'Ds': {}, 'SNR': {}, 'm': m, 'P': P}\n",
    "    for roi_name in manifold_data['R0'].keys():\n",
    "        manifold_dict['Sign'][roi_name], manifold_dict['Bias'][roi_name], manifold_dict['Ds'][roi_name], \\\n",
    "        manifold_dict['Nsa'][roi_name], manifold_dict['Nsb'][roi_name], manifold_dict['Nss'][roi_name], \\\n",
    "        manifold_dict['SNR'][roi_name] = \\\n",
    "            geometry(manifold_data['R0'][roi_name], \n",
    "                     manifold_data['Rs'][roi_name], \n",
    "                     manifold_data['Us'][roi_name], m, P)\n",
    "        #signal, bias, Ds, nsa, nsb, nno, SNR\n",
    "    \n",
    "    save_stuff( output_dir + 'imagenet_manifold_subj%02d_SNR'%subj, flatten_dict(manifold_dict))"
   ]
  },
  {
   "cell_type": "markdown",
   "metadata": {},
   "source": [
    "# Load 5-shot error pattern"
   ]
  },
  {
   "cell_type": "code",
   "execution_count": 21,
   "metadata": {},
   "outputs": [],
   "source": [
    "geom_set = h5py.File(input_dir + 'imagenet_manifold_5shot_err_all.h5py', 'r')\n",
    "geom_data = embed_dict({k:np.copy(v) for k,v in geom_set.items()})\n",
    "geom_set.close()\n",
    "\n",
    "roiwise_K_shot_err = {}\n",
    "for s in subjects:\n",
    "    roiwise_K_shot_err[s] = geom_data['err']['%s'%s]"
   ]
  },
  {
   "cell_type": "markdown",
   "metadata": {},
   "source": [
    "## Plot 5-shot error as a function of WNet distance"
   ]
  },
  {
   "cell_type": "code",
   "execution_count": 28,
   "metadata": {},
   "outputs": [
    {
     "data": {
      "text/plain": [
       "(0.0, 28.0)"
      ]
     },
     "execution_count": 28,
     "metadata": {},
     "output_type": "execute_result"
    },
    {
     "data": {
      "image/png": "[encoded data removed]",
      "text/plain": [
       "<Figure size 576x432 with 1 Axes>"
      ]
     },
     "metadata": {
      "needs_background": "light"
     },
     "output_type": "display_data"
    }
   ],
   "source": [
    "from scipy.stats import binned_statistic\n",
    "\n",
    "fig=plt.figure(figsize=(8,6))\n",
    "plt.subplots_adjust(left=0.2, bottom=0.15, right=.75, top=.95, wspace=0.3, hspace=0.3) \n",
    "for k,roi in enumerate(plot_roi):\n",
    "    Y = []\n",
    "    for s in roiwise_K_shot_err.keys():\n",
    "        bin_means, bin_edges, binnumber = binned_statistic(offdiagonal(D_mat), offdiagonal(roiwise_K_shot_err[s][roi]),\\\n",
    "                                                       statistic='mean', bins=np.arange(0,30))\n",
    "        Y += [bin_means,]\n",
    "    Y = np.array(Y)\n",
    "    subj_means = np.mean(Y, axis=0)\n",
    "    subj_stds  = np.std(Y, axis=0) \n",
    "    plt.fill_between(bin_edges[:-1], subj_means-subj_stds, subj_means+subj_stds, color=roi_cmap[roi], alpha=.2)\n",
    "    plt.plot(bin_edges[:-1], subj_means, marker='o', color=roi_cmap[roi], label=roi)   \n",
    "plt.xlabel('WordNet hierarchical distance')\n",
    "plt.ylabel('5-shot classification error')\n",
    "plt.legend(loc=(1.02, 0.0))\n",
    "plt.xlim([0, 28])"
   ]
  },
  {
   "cell_type": "code",
   "execution_count": 1511,
   "metadata": {},
   "outputs": [],
   "source": [
    "filename = output_dir + \"5-shot-accuracy_v_wordnet_distance%s\" % (saveext)\n",
    "fig.savefig(filename, **savearg)\n",
    "plt.close()"
   ]
  },
  {
   "cell_type": "code",
   "execution_count": 30,
   "metadata": {},
   "outputs": [],
   "source": [
    "roi_subj_means, roi_subj_stds = [],[]\n",
    "for k,roi in enumerate(plot_roi):\n",
    "    Y = []\n",
    "    for s in roiwise_K_shot_err.keys():\n",
    "        bin_means, bin_edges, binnumber = binned_statistic(offdiagonal(D_mat), offdiagonal(roiwise_K_shot_err[s][roi]),\\\n",
    "                                                       statistic='mean', bins=[0, 6, 12, 18, 24, 30])\n",
    "        Y += [bin_means,]\n",
    "    Y = np.array(Y)\n",
    "    subj_means = np.mean(Y, axis=0)\n",
    "    subj_stds  = np.std(Y, axis=0) \n",
    "    roi_subj_means += [subj_means,]\n",
    "    roi_subj_stds  += [subj_stds,]"
   ]
  },
  {
   "cell_type": "code",
   "execution_count": 32,
   "metadata": {},
   "outputs": [
    {
     "data": {
      "text/plain": [
       "<matplotlib.legend.Legend at 0x7f73bd78c208>"
      ]
     },
     "execution_count": 32,
     "metadata": {},
     "output_type": "execute_result"
    },
    {
     "data": {
      "image/png": "[encoded data removed]",
      "text/plain": [
       "<Figure size 576x360 with 1 Axes>"
      ]
     },
     "metadata": {
      "needs_background": "light"
     },
     "output_type": "display_data"
    }
   ],
   "source": [
    "range_cmap = [cm.get_cmap('Reds', len(roi_subj_means[0])+2)(k+2) for k in range(len(roi_subj_means[0]))]\n",
    "\n",
    "fig=plt.figure(figsize=(8,5))\n",
    "plt.subplots_adjust(left=0.2, bottom=0.15, right=.75, top=.95, wspace=0.3, hspace=0.3) \n",
    "Y_avg = np.zeros(len(plot_roi))\n",
    "for k, (v,e,l) in enumerate(zip(np.array(roi_subj_means).T, np.array(roi_subj_stds).T, \\\n",
    "                                ['[0-6[', '[6-12[', '[12-18[', '[18-24[', '[24-30['])):\n",
    "    plt.plot(np.arange(len(plot_roi)), v)\n",
    "    \n",
    "    plt.fill_between(np.arange(len(plot_roi)), v-e, v+e, color=range_cmap[k], alpha=.2)\n",
    "    plt.plot(np.arange(len(plot_roi)), v, marker='s', ms=10, lw=4, color=range_cmap[k], label=l)  \n",
    "\n",
    "_=plt.gca().set_xticks(np.arange(len(plot_roi)))\n",
    "_=plt.gca().set_xticklabels(plot_roi, rotation=90)\n",
    "plt.ylabel('5-shot classification error')\n",
    "plt.legend(loc=(1.02, 0.))"
   ]
  },
  {
   "cell_type": "code",
   "execution_count": 1513,
   "metadata": {},
   "outputs": [],
   "source": [
    "filename = output_dir + \"m-shot_accuracy_vs_roi_per_wordnet_distance%s\" % (saveext)\n",
    "fig.savefig(filename, **savearg)\n",
    "plt.close()"
   ]
  },
  {
   "cell_type": "markdown",
   "metadata": {},
   "source": [
    "## SNR distribution per subject and ROI"
   ]
  },
  {
   "cell_type": "code",
   "execution_count": 33,
   "metadata": {},
   "outputs": [
    {
     "data": {
      "image/png": "[encoded data removed]",
      "text/plain": [
       "<Figure size 576x432 with 1 Axes>"
      ]
     },
     "metadata": {
      "needs_background": "light"
     },
     "output_type": "display_data"
    }
   ],
   "source": [
    "fig = plt.figure(figsize=(8, 6))\n",
    "plt.subplots_adjust(left=0.15, bottom=0.15, right=.98, top=.95, wspace=0.1, hspace=0.2)\n",
    "\n",
    "m = D_mat.flatten()>=24 #np.logical_and(D_mat.flatten()>=25, D_mat.flatten()<rr[1])\n",
    "    \n",
    "subj_avg = []\n",
    "for s in subjects:\n",
    "    \n",
    "    Y = [invalid_to_num((roiwise_K_shot_err[s][r].flatten())[m], np.mean) for r in plot_roi]\n",
    "    Ymin, Ymax = [np.percentile(y, 1) for y in Y], [np.percentile(y, 99) for y in Y]\n",
    "    Yf = [y[np.logical_and(y>ymin, y<ymax)] for y,ymin,ymax in zip(Y, Ymin, Ymax)]\n",
    "\n",
    "    parts = plt.violinplot(Yf, \\\n",
    "        positions=np.arange(len(Y))+.12*s-0.54, \\\n",
    "        vert=True, widths=0.1, showmeans=False, showextrema=False, showmedians=False)\n",
    "\n",
    "    for pc in parts['bodies']:\n",
    "        pc.set_facecolor(subj_cmap[s])\n",
    "        pc.set_edgecolor(subj_cmap[s])\n",
    "        pc.set_alpha(1)\n",
    "\n",
    "    values = np.array([np.mean(y) for y in Y])\n",
    "    _=plt.plot(np.arange(len(Y))+.12*s-0.54, values, marker='o', ms=6, color='k', linestyle='None')\n",
    "    subj_avg += [values,]\n",
    "    \n",
    "subj_avg = np.array(subj_avg)\n",
    "_=plt.plot(np.arange(len(Y)), np.mean(subj_avg, axis=0), marker='s', ms=10, color='w', lw=8)\n",
    "_=plt.plot(np.arange(len(Y)), np.mean(subj_avg, axis=0), marker='s', ms=6, color='k', lw=4)\n",
    "\n",
    "_=plt.gca().set_xticks(np.arange(len(plot_roi)))\n",
    "_=plt.gca().set_xticklabels(plot_roi, rotation=90)    \n",
    "_=plt.ylabel('5-shot error (d>23)')"
   ]
  },
  {
   "cell_type": "code",
   "execution_count": 958,
   "metadata": {},
   "outputs": [],
   "source": [
    "filename = output_dir + \"5-shot-accuracy_wnD_above_24_per_ROI%s\" % (saveext)\n",
    "fig.savefig(filename, **savearg)\n",
    "plt.close()"
   ]
  },
  {
   "cell_type": "code",
   "execution_count": null,
   "metadata": {},
   "outputs": [],
   "source": []
  },
  {
   "cell_type": "code",
   "execution_count": null,
   "metadata": {},
   "outputs": [],
   "source": []
  },
  {
   "cell_type": "code",
   "execution_count": null,
   "metadata": {},
   "outputs": [],
   "source": []
  }
 ],
 "metadata": {
  "kernelspec": {
   "display_name": "Python 3.6",
   "language": "python",
   "name": "python3"
  },
  "language_info": {
   "codemirror_mode": {
    "name": "ipython",
    "version": 3
   },
   "file_extension": ".py",
   "mimetype": "text/x-python",
   "name": "python",
   "nbconvert_exporter": "python",
   "pygments_lexer": "ipython3",
   "version": "3.6.8"
  }
 },
 "nbformat": 4,
 "nbformat_minor": 2
}
